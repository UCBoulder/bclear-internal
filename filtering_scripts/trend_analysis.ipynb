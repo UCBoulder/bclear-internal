{
 "cells": [
  {
   "cell_type": "code",
   "execution_count": 5,
   "metadata": {},
   "outputs": [],
   "source": [
    "import pandas as pd\n",
    "import numpy as np\n",
    "import matplotlib.pyplot as plt\n",
    "from sklearn.cluster import KMeans\n",
    "from sklearn.preprocessing import LabelEncoder"
   ]
  },
  {
   "cell_type": "code",
   "execution_count": 196,
   "metadata": {},
   "outputs": [],
   "source": [
    "data = pd.read_csv('202201/curr_udplatency.csv')"
   ]
  },
  {
   "cell_type": "code",
   "execution_count": 157,
   "metadata": {},
   "outputs": [
    {
     "data": {
      "text/html": [
       "<div>\n",
       "<style scoped>\n",
       "    .dataframe tbody tr th:only-of-type {\n",
       "        vertical-align: middle;\n",
       "    }\n",
       "\n",
       "    .dataframe tbody tr th {\n",
       "        vertical-align: top;\n",
       "    }\n",
       "\n",
       "    .dataframe thead th {\n",
       "        text-align: right;\n",
       "    }\n",
       "</style>\n",
       "<table border=\"1\" class=\"dataframe\">\n",
       "  <thead>\n",
       "    <tr style=\"text-align: right;\">\n",
       "      <th></th>\n",
       "      <th>unit_id</th>\n",
       "      <th>dtime</th>\n",
       "      <th>target</th>\n",
       "      <th>rtt_avg</th>\n",
       "      <th>rtt_min</th>\n",
       "      <th>rtt_max</th>\n",
       "      <th>rtt_std</th>\n",
       "      <th>successes</th>\n",
       "      <th>failures</th>\n",
       "    </tr>\n",
       "  </thead>\n",
       "  <tbody>\n",
       "    <tr>\n",
       "      <th>0</th>\n",
       "      <td>22</td>\n",
       "      <td>2022-01-01 00:28:36</td>\n",
       "      <td>sp2-vm-newyork-us.samknows.com</td>\n",
       "      <td>17906</td>\n",
       "      <td>14043</td>\n",
       "      <td>27800</td>\n",
       "      <td>1651</td>\n",
       "      <td>711</td>\n",
       "      <td>0</td>\n",
       "    </tr>\n",
       "    <tr>\n",
       "      <th>1</th>\n",
       "      <td>22</td>\n",
       "      <td>2022-01-01 00:28:36</td>\n",
       "      <td>newyorkfcc.west.verizon.net</td>\n",
       "      <td>18635</td>\n",
       "      <td>16657</td>\n",
       "      <td>33193</td>\n",
       "      <td>2429</td>\n",
       "      <td>711</td>\n",
       "      <td>0</td>\n",
       "    </tr>\n",
       "    <tr>\n",
       "      <th>2</th>\n",
       "      <td>22</td>\n",
       "      <td>2022-01-01 00:52:23</td>\n",
       "      <td>sp2-vm-newyork-us.samknows.com</td>\n",
       "      <td>18074</td>\n",
       "      <td>14834</td>\n",
       "      <td>26625</td>\n",
       "      <td>1569</td>\n",
       "      <td>220</td>\n",
       "      <td>0</td>\n",
       "    </tr>\n",
       "    <tr>\n",
       "      <th>3</th>\n",
       "      <td>22</td>\n",
       "      <td>2022-01-01 00:52:23</td>\n",
       "      <td>newyorkfcc.west.verizon.net</td>\n",
       "      <td>19000</td>\n",
       "      <td>16714</td>\n",
       "      <td>29388</td>\n",
       "      <td>2542</td>\n",
       "      <td>220</td>\n",
       "      <td>0</td>\n",
       "    </tr>\n",
       "    <tr>\n",
       "      <th>4</th>\n",
       "      <td>22</td>\n",
       "      <td>2022-01-01 01:28:34</td>\n",
       "      <td>sp1-vm-newyork-us.samknows.com</td>\n",
       "      <td>18359</td>\n",
       "      <td>13986</td>\n",
       "      <td>33229</td>\n",
       "      <td>2249</td>\n",
       "      <td>271</td>\n",
       "      <td>0</td>\n",
       "    </tr>\n",
       "  </tbody>\n",
       "</table>\n",
       "</div>"
      ],
      "text/plain": [
       "   unit_id                dtime                          target  rtt_avg  \\\n",
       "0       22  2022-01-01 00:28:36  sp2-vm-newyork-us.samknows.com    17906   \n",
       "1       22  2022-01-01 00:28:36     newyorkfcc.west.verizon.net    18635   \n",
       "2       22  2022-01-01 00:52:23  sp2-vm-newyork-us.samknows.com    18074   \n",
       "3       22  2022-01-01 00:52:23     newyorkfcc.west.verizon.net    19000   \n",
       "4       22  2022-01-01 01:28:34  sp1-vm-newyork-us.samknows.com    18359   \n",
       "\n",
       "   rtt_min  rtt_max  rtt_std  successes  failures  \n",
       "0    14043    27800     1651        711         0  \n",
       "1    16657    33193     2429        711         0  \n",
       "2    14834    26625     1569        220         0  \n",
       "3    16714    29388     2542        220         0  \n",
       "4    13986    33229     2249        271         0  "
      ]
     },
     "execution_count": 157,
     "metadata": {},
     "output_type": "execute_result"
    }
   ],
   "source": [
    "data.head()"
   ]
  },
  {
   "cell_type": "code",
   "execution_count": 202,
   "metadata": {},
   "outputs": [
    {
     "data": {
      "text/plain": [
       "(6023080, 9)"
      ]
     },
     "execution_count": 202,
     "metadata": {},
     "output_type": "execute_result"
    }
   ],
   "source": [
    "data.shape"
   ]
  },
  {
   "cell_type": "code",
   "execution_count": 4,
   "metadata": {},
   "outputs": [
    {
     "data": {
      "text/plain": [
       "92"
      ]
     },
     "execution_count": 4,
     "metadata": {},
     "output_type": "execute_result"
    }
   ],
   "source": [
    "len(data['target'].unique().tolist())"
   ]
  },
  {
   "cell_type": "markdown",
   "metadata": {},
   "source": [
    "## Cluster based on the features - target and rtt_avg"
   ]
  },
  {
   "cell_type": "markdown",
   "metadata": {},
   "source": [
    "#### find optimum value of K"
   ]
  },
  {
   "cell_type": "code",
   "execution_count": 175,
   "metadata": {},
   "outputs": [
    {
     "data": {
      "image/png": "[encoded data removed]",
      "text/plain": [
       "<Figure size 640x480 with 1 Axes>"
      ]
     },
     "metadata": {},
     "output_type": "display_data"
    }
   ],
   "source": [
    "targets = data['target']\n",
    "le = LabelEncoder()\n",
    "data['target'] = le.fit_transform(data['target'])\n",
    "X = data[['target', 'rtt_avg']].to_numpy()\n",
    "\n",
    "sse = {}\n",
    "for k in range(1, 10):\n",
    "    kmeans = KMeans(n_clusters=k, max_iter=1000, random_state=0, n_init=\"auto\").fit(X)\n",
    "    # data[\"Cluster\"] = kmeans.labels_\n",
    "    #print(data[\"clusters\"])\n",
    "    sse[k] = kmeans.inertia_ # Inertia: Sum of distances of samples to their closest cluster center\n",
    "plt.figure()\n",
    "plt.plot(list(sse.keys()), list(sse.values()))\n",
    "plt.xlabel(\"Number of cluster\")\n",
    "plt.ylabel(\"SSE\")\n",
    "plt.show()"
   ]
  },
  {
   "cell_type": "markdown",
   "metadata": {},
   "source": [
    "#### select k=5 and make analyze the clusters"
   ]
  },
  {
   "cell_type": "code",
   "execution_count": 176,
   "metadata": {},
   "outputs": [
    {
     "data": {
      "text/html": [
       "<div>\n",
       "<style scoped>\n",
       "    .dataframe tbody tr th:only-of-type {\n",
       "        vertical-align: middle;\n",
       "    }\n",
       "\n",
       "    .dataframe tbody tr th {\n",
       "        vertical-align: top;\n",
       "    }\n",
       "\n",
       "    .dataframe thead th {\n",
       "        text-align: right;\n",
       "    }\n",
       "</style>\n",
       "<table border=\"1\" class=\"dataframe\">\n",
       "  <thead>\n",
       "    <tr style=\"text-align: right;\">\n",
       "      <th></th>\n",
       "      <th>unit_id</th>\n",
       "      <th>dtime</th>\n",
       "      <th>target</th>\n",
       "      <th>rtt_avg</th>\n",
       "      <th>rtt_min</th>\n",
       "      <th>rtt_max</th>\n",
       "      <th>rtt_std</th>\n",
       "      <th>successes</th>\n",
       "      <th>failures</th>\n",
       "      <th>Cluster</th>\n",
       "      <th>operator_name</th>\n",
       "      <th>operator_technology</th>\n",
       "    </tr>\n",
       "  </thead>\n",
       "  <tbody>\n",
       "    <tr>\n",
       "      <th>0</th>\n",
       "      <td>22</td>\n",
       "      <td>2022-01-01 00:28:36</td>\n",
       "      <td>84</td>\n",
       "      <td>17906</td>\n",
       "      <td>14043</td>\n",
       "      <td>27800</td>\n",
       "      <td>1651</td>\n",
       "      <td>711</td>\n",
       "      <td>0</td>\n",
       "      <td>0</td>\n",
       "      <td>Verizon</td>\n",
       "      <td>Fiber</td>\n",
       "    </tr>\n",
       "    <tr>\n",
       "      <th>1</th>\n",
       "      <td>22</td>\n",
       "      <td>2022-01-01 00:28:36</td>\n",
       "      <td>49</td>\n",
       "      <td>18635</td>\n",
       "      <td>16657</td>\n",
       "      <td>33193</td>\n",
       "      <td>2429</td>\n",
       "      <td>711</td>\n",
       "      <td>0</td>\n",
       "      <td>0</td>\n",
       "      <td>Verizon</td>\n",
       "      <td>Fiber</td>\n",
       "    </tr>\n",
       "    <tr>\n",
       "      <th>2</th>\n",
       "      <td>22</td>\n",
       "      <td>2022-01-01 00:52:23</td>\n",
       "      <td>84</td>\n",
       "      <td>18074</td>\n",
       "      <td>14834</td>\n",
       "      <td>26625</td>\n",
       "      <td>1569</td>\n",
       "      <td>220</td>\n",
       "      <td>0</td>\n",
       "      <td>0</td>\n",
       "      <td>Verizon</td>\n",
       "      <td>Fiber</td>\n",
       "    </tr>\n",
       "    <tr>\n",
       "      <th>3</th>\n",
       "      <td>22</td>\n",
       "      <td>2022-01-01 00:52:23</td>\n",
       "      <td>49</td>\n",
       "      <td>19000</td>\n",
       "      <td>16714</td>\n",
       "      <td>29388</td>\n",
       "      <td>2542</td>\n",
       "      <td>220</td>\n",
       "      <td>0</td>\n",
       "      <td>0</td>\n",
       "      <td>Verizon</td>\n",
       "      <td>Fiber</td>\n",
       "    </tr>\n",
       "    <tr>\n",
       "      <th>4</th>\n",
       "      <td>22</td>\n",
       "      <td>2022-01-01 01:28:34</td>\n",
       "      <td>79</td>\n",
       "      <td>18359</td>\n",
       "      <td>13986</td>\n",
       "      <td>33229</td>\n",
       "      <td>2249</td>\n",
       "      <td>271</td>\n",
       "      <td>0</td>\n",
       "      <td>0</td>\n",
       "      <td>Verizon</td>\n",
       "      <td>Fiber</td>\n",
       "    </tr>\n",
       "  </tbody>\n",
       "</table>\n",
       "</div>"
      ],
      "text/plain": [
       "   unit_id                dtime  target  rtt_avg  rtt_min  rtt_max  rtt_std  \\\n",
       "0       22  2022-01-01 00:28:36      84    17906    14043    27800     1651   \n",
       "1       22  2022-01-01 00:28:36      49    18635    16657    33193     2429   \n",
       "2       22  2022-01-01 00:52:23      84    18074    14834    26625     1569   \n",
       "3       22  2022-01-01 00:52:23      49    19000    16714    29388     2542   \n",
       "4       22  2022-01-01 01:28:34      79    18359    13986    33229     2249   \n",
       "\n",
       "   successes  failures  Cluster operator_name operator_technology  \n",
       "0        711         0        0       Verizon               Fiber  \n",
       "1        711         0        0       Verizon               Fiber  \n",
       "2        220         0        0       Verizon               Fiber  \n",
       "3        220         0        0       Verizon               Fiber  \n",
       "4        271         0        0       Verizon               Fiber  "
      ]
     },
     "execution_count": 176,
     "metadata": {},
     "output_type": "execute_result"
    }
   ],
   "source": [
    "kmeans = KMeans(n_clusters=5, max_iter=1000, random_state=0, n_init=\"auto\").fit(X)\n",
    "data_copy = data.copy(deep=True)\n",
    "data_copy['Cluster'] = kmeans.labels_\n",
    "\n",
    "unit_id_map = pd.read_csv('202201/unit_id_mapping.csv')\n",
    "merged_data = pd.merge(data_copy, unit_id_map, how=\"left\", on=\"unit_id\")\n",
    "merged_data['operator_name'] = pd.Categorical(merged_data.operator_name)\n",
    "merged_data['operator_technology'] = pd.Categorical(merged_data.operator_technology)\n",
    "merged_data.head()"
   ]
  },
  {
   "cell_type": "markdown",
   "metadata": {},
   "source": [
    "### Summary based on Operator"
   ]
  },
  {
   "cell_type": "code",
   "execution_count": 177,
   "metadata": {},
   "outputs": [
    {
     "name": "stdout",
     "output_type": "stream",
     "text": [
      "+-------+------------------+-------------+-------------+-------------+-------------+-------------+\n",
      "|       | operator_name    |   Cluster 0 |   Cluster 1 |   Cluster 2 |   Cluster 3 |   Cluster 4 |\n",
      "+=======+==================+=============+=============+=============+=============+=============+\n",
      "| 0     | Comcast          |      906467 |        2576 |       11985 |         395 |        3728 |\n",
      "+-------+------------------+-------------+-------------+-------------+-------------+-------------+\n",
      "| 1     | Charter          |      711663 |         203 |       79689 |          11 |        1160 |\n",
      "+-------+------------------+-------------+-------------+-------------+-------------+-------------+\n",
      "| 2     | Frontier         |      653309 |        2616 |       58429 |        1220 |        4457 |\n",
      "+-------+------------------+-------------+-------------+-------------+-------------+-------------+\n",
      "| 3     | CenturyLink      |      585758 |        2129 |      526608 |         821 |       13311 |\n",
      "+-------+------------------+-------------+-------------+-------------+-------------+-------------+\n",
      "| 4     | Verizon          |      512797 |         214 |       21112 |          95 |        2131 |\n",
      "+-------+------------------+-------------+-------------+-------------+-------------+-------------+\n",
      "| 5     | Cox              |      336737 |         129 |       12148 |         514 |         149 |\n",
      "+-------+------------------+-------------+-------------+-------------+-------------+-------------+\n",
      "| 6     | Cablevision      |      333492 |          17 |         777 |          16 |         110 |\n",
      "+-------+------------------+-------------+-------------+-------------+-------------+-------------+\n",
      "| 7     | Windstream       |      243983 |         558 |       24574 |         235 |        2129 |\n",
      "+-------+------------------+-------------+-------------+-------------+-------------+-------------+\n",
      "| 8     | Cincinnati Bell  |      222553 |          57 |        9385 |          49 |         289 |\n",
      "+-------+------------------+-------------+-------------+-------------+-------------+-------------+\n",
      "| 9     | Mediacom         |      213386 |         132 |       25927 |         111 |         402 |\n",
      "+-------+------------------+-------------+-------------+-------------+-------------+-------------+\n",
      "| 10    | Hawaiian Telecom |       51731 |           3 |        5138 |           0 |         266 |\n",
      "+-------+------------------+-------------+-------------+-------------+-------------+-------------+\n",
      "| 11    | AT&T             |       33244 |          11 |         518 |           5 |          62 |\n",
      "+-------+------------------+-------------+-------------+-------------+-------------+-------------+\n",
      "| 12    | Optimum          |        7436 |           0 |          22 |           0 |           3 |\n",
      "+-------+------------------+-------------+-------------+-------------+-------------+-------------+\n",
      "| Total | nan              |     4812556 |        8645 |      776312 |        3472 |       28197 |\n",
      "+-------+------------------+-------------+-------------+-------------+-------------+-------------+\n"
     ]
    }
   ],
   "source": [
    "from functools import reduce\n",
    "op_stats_0 = merged_data[merged_data[\"Cluster\"] == 0].groupby([\"operator_name\"])[\"operator_name\"].count().sort_values(ascending=False).reset_index(name=\"Cluster 0\")\n",
    "op_stats_1 = merged_data[merged_data[\"Cluster\"] == 1].groupby([\"operator_name\"])[\"operator_name\"].count().sort_values(ascending=False).reset_index(name=\"Cluster 1\")\n",
    "op_stats_2 = merged_data[merged_data[\"Cluster\"] == 2].groupby([\"operator_name\"])[\"operator_name\"].count().sort_values(ascending=False).reset_index(name=\"Cluster 2\")\n",
    "op_stats_3 = merged_data[merged_data[\"Cluster\"] == 3].groupby([\"operator_name\"])[\"operator_name\"].count().sort_values(ascending=False).reset_index(name=\"Cluster 3\")\n",
    "op_stats_4 = merged_data[merged_data[\"Cluster\"] == 4].groupby([\"operator_name\"])[\"operator_name\"].count().sort_values(ascending=False).reset_index(name=\"Cluster 4\")\n",
    "all_op_stats = [op_stats_0, op_stats_1, op_stats_2, op_stats_3, op_stats_4]\n",
    "\n",
    "op_stats = reduce(lambda df_left, df_right: pd.merge(df_left, df_right, how='outer', on='operator_name'), all_op_stats).fillna(0)\n",
    "op_stats.loc['Total'] = op_stats[['Cluster 0','Cluster 1','Cluster 2','Cluster 3','Cluster 4',]].sum()\n",
    "print(op_stats.to_markdown(tablefmt=\"grid\", floatfmt='.0f'))"
   ]
  },
  {
   "cell_type": "markdown",
   "metadata": {},
   "source": [
    "### Summary Based on Technology"
   ]
  },
  {
   "cell_type": "code",
   "execution_count": 178,
   "metadata": {},
   "outputs": [
    {
     "name": "stdout",
     "output_type": "stream",
     "text": [
      "+-------+-----------------------+-------------+-------------+-------------+-------------+-------------+\n",
      "|       | operator_technology   |   Cluster 0 |   Cluster 1 |   Cluster 2 |   Cluster 3 |   Cluster 4 |\n",
      "+=======+=======================+=============+=============+=============+=============+=============+\n",
      "| 0     | Cable                 |     2187332 |        3041 |      129520 |        1031 |        5434 |\n",
      "+-------+-----------------------+-------------+-------------+-------------+-------------+-------------+\n",
      "| 1     | Fiber                 |     1229964 |         229 |       67406 |         102 |        2310 |\n",
      "+-------+-----------------------+-------------+-------------+-------------+-------------+-------------+\n",
      "| 2     | DSL                   |     1058592 |        5358 |      577340 |        2322 |       20327 |\n",
      "+-------+-----------------------+-------------+-------------+-------------+-------------+-------------+\n",
      "| 3     | Fixed Wireless        |         412 |           0 |         354 |           0 |           0 |\n",
      "+-------+-----------------------+-------------+-------------+-------------+-------------+-------------+\n",
      "| Total | nan                   |     4476300 |        8628 |      774620 |        3455 |       28071 |\n",
      "+-------+-----------------------+-------------+-------------+-------------+-------------+-------------+\n"
     ]
    }
   ],
   "source": [
    "from functools import reduce\n",
    "op_stats_0 = merged_data[merged_data[\"Cluster\"] == 0].groupby([\"operator_technology\"])[\"operator_technology\"].count().sort_values(ascending=False).reset_index(name=\"Cluster 0\")\n",
    "op_stats_1 = merged_data[merged_data[\"Cluster\"] == 1].groupby([\"operator_technology\"])[\"operator_technology\"].count().sort_values(ascending=False).reset_index(name=\"Cluster 1\")\n",
    "op_stats_2 = merged_data[merged_data[\"Cluster\"] == 2].groupby([\"operator_technology\"])[\"operator_technology\"].count().sort_values(ascending=False).reset_index(name=\"Cluster 2\")\n",
    "op_stats_3 = merged_data[merged_data[\"Cluster\"] == 3].groupby([\"operator_technology\"])[\"operator_technology\"].count().sort_values(ascending=False).reset_index(name=\"Cluster 3\")\n",
    "op_stats_4 = merged_data[merged_data[\"Cluster\"] == 4].groupby([\"operator_technology\"])[\"operator_technology\"].count().sort_values(ascending=False).reset_index(name=\"Cluster 4\")\n",
    "all_op_stats = [op_stats_0, op_stats_1, op_stats_2, op_stats_3, op_stats_4]\n",
    "\n",
    "op_stats = reduce(lambda df_left, df_right: pd.merge(df_left, df_right, how='outer', on='operator_technology'), all_op_stats).fillna(0)\n",
    "op_stats.loc['Total'] = op_stats[['Cluster 0','Cluster 1','Cluster 2','Cluster 3','Cluster 4',]].sum()\n",
    "print(op_stats.to_markdown(tablefmt=\"grid\", floatfmt='.0f'))"
   ]
  },
  {
   "cell_type": "markdown",
   "metadata": {},
   "source": [
    "### Summary based on rtt_avg"
   ]
  },
  {
   "cell_type": "code",
   "execution_count": 183,
   "metadata": {},
   "outputs": [
    {
     "data": {
      "image/png": "[encoded data removed]",
      "text/plain": [
       "<Figure size 640x480 with 1 Axes>"
      ]
     },
     "metadata": {},
     "output_type": "display_data"
    }
   ],
   "source": [
    "cluster_0 = merged_data[merged_data[\"Cluster\"] == 0]\n",
    "cluster_1 = merged_data[merged_data[\"Cluster\"] == 1]\n",
    "cluster_2 = merged_data[merged_data[\"Cluster\"] == 2]\n",
    "cluster_3 = merged_data[merged_data[\"Cluster\"] == 3]\n",
    "cluster_4 = merged_data[merged_data[\"Cluster\"] == 4]\n",
    "all_clusters = pd.concat([cluster_0['rtt_avg'], cluster_1['rtt_avg'], cluster_2['rtt_avg'], cluster_3['rtt_avg'], cluster_4['rtt_avg']], axis=1)\n",
    "all_clusters.columns = ['Cluster 0','Cluster 1', 'Cluster 2', 'Cluster 3', 'Cluster 4']\n",
    "all_clusters.plot(kind=\"box\", title=\"Latencies in each Cluster\")\n",
    "plt.show()\n",
    "\n",
    "# ax = cluster_0[['rtt_avg']].plot(kind=\"box\")\n",
    "# plt.hist(latencies)"
   ]
  },
  {
   "cell_type": "markdown",
   "metadata": {},
   "source": [
    "## Cluster based on the features - rtt_avg, rtt_max, rtt_min"
   ]
  },
  {
   "cell_type": "markdown",
   "metadata": {},
   "source": [
    "#### find optimum value of K"
   ]
  },
  {
   "cell_type": "code",
   "execution_count": 191,
   "metadata": {},
   "outputs": [
    {
     "data": {
      "image/png": "[encoded data removed]",
      "text/plain": [
       "<Figure size 640x480 with 1 Axes>"
      ]
     },
     "metadata": {},
     "output_type": "display_data"
    }
   ],
   "source": [
    "# targets = data['target']\n",
    "# le = LabelEncoder()\n",
    "# data['target'] = le.fit_transform(data['target'])\n",
    "X = data[['rtt_min', 'rtt_avg', 'rtt_max']].to_numpy()\n",
    "\n",
    "sse = {}\n",
    "for k in range(1, 10):\n",
    "    kmeans = KMeans(n_clusters=k, max_iter=1000, random_state=0, n_init=\"auto\").fit(X)\n",
    "    # data[\"Cluster\"] = kmeans.labels_\n",
    "    #print(data[\"clusters\"])\n",
    "    sse[k] = kmeans.inertia_ # Inertia: Sum of distances of samples to their closest cluster center\n",
    "plt.figure()\n",
    "plt.plot(list(sse.keys()), list(sse.values()))\n",
    "plt.xlabel(\"Number of cluster\")\n",
    "plt.ylabel(\"SSE\")\n",
    "plt.show()"
   ]
  },
  {
   "cell_type": "markdown",
   "metadata": {},
   "source": [
    "#### select k=6 and make analyze the clusters"
   ]
  },
  {
   "cell_type": "code",
   "execution_count": 192,
   "metadata": {},
   "outputs": [
    {
     "data": {
      "text/html": [
       "<div>\n",
       "<style scoped>\n",
       "    .dataframe tbody tr th:only-of-type {\n",
       "        vertical-align: middle;\n",
       "    }\n",
       "\n",
       "    .dataframe tbody tr th {\n",
       "        vertical-align: top;\n",
       "    }\n",
       "\n",
       "    .dataframe thead th {\n",
       "        text-align: right;\n",
       "    }\n",
       "</style>\n",
       "<table border=\"1\" class=\"dataframe\">\n",
       "  <thead>\n",
       "    <tr style=\"text-align: right;\">\n",
       "      <th></th>\n",
       "      <th>unit_id</th>\n",
       "      <th>dtime</th>\n",
       "      <th>target</th>\n",
       "      <th>rtt_avg</th>\n",
       "      <th>rtt_min</th>\n",
       "      <th>rtt_max</th>\n",
       "      <th>rtt_std</th>\n",
       "      <th>successes</th>\n",
       "      <th>failures</th>\n",
       "      <th>Cluster</th>\n",
       "      <th>operator_name</th>\n",
       "      <th>operator_technology</th>\n",
       "    </tr>\n",
       "  </thead>\n",
       "  <tbody>\n",
       "    <tr>\n",
       "      <th>0</th>\n",
       "      <td>22</td>\n",
       "      <td>2022-01-01 00:28:36</td>\n",
       "      <td>sp2-vm-newyork-us.samknows.com</td>\n",
       "      <td>17906</td>\n",
       "      <td>14043</td>\n",
       "      <td>27800</td>\n",
       "      <td>1651</td>\n",
       "      <td>711</td>\n",
       "      <td>0</td>\n",
       "      <td>0</td>\n",
       "      <td>Verizon</td>\n",
       "      <td>Fiber</td>\n",
       "    </tr>\n",
       "    <tr>\n",
       "      <th>1</th>\n",
       "      <td>22</td>\n",
       "      <td>2022-01-01 00:28:36</td>\n",
       "      <td>newyorkfcc.west.verizon.net</td>\n",
       "      <td>18635</td>\n",
       "      <td>16657</td>\n",
       "      <td>33193</td>\n",
       "      <td>2429</td>\n",
       "      <td>711</td>\n",
       "      <td>0</td>\n",
       "      <td>0</td>\n",
       "      <td>Verizon</td>\n",
       "      <td>Fiber</td>\n",
       "    </tr>\n",
       "    <tr>\n",
       "      <th>2</th>\n",
       "      <td>22</td>\n",
       "      <td>2022-01-01 00:52:23</td>\n",
       "      <td>sp2-vm-newyork-us.samknows.com</td>\n",
       "      <td>18074</td>\n",
       "      <td>14834</td>\n",
       "      <td>26625</td>\n",
       "      <td>1569</td>\n",
       "      <td>220</td>\n",
       "      <td>0</td>\n",
       "      <td>0</td>\n",
       "      <td>Verizon</td>\n",
       "      <td>Fiber</td>\n",
       "    </tr>\n",
       "    <tr>\n",
       "      <th>3</th>\n",
       "      <td>22</td>\n",
       "      <td>2022-01-01 00:52:23</td>\n",
       "      <td>newyorkfcc.west.verizon.net</td>\n",
       "      <td>19000</td>\n",
       "      <td>16714</td>\n",
       "      <td>29388</td>\n",
       "      <td>2542</td>\n",
       "      <td>220</td>\n",
       "      <td>0</td>\n",
       "      <td>0</td>\n",
       "      <td>Verizon</td>\n",
       "      <td>Fiber</td>\n",
       "    </tr>\n",
       "    <tr>\n",
       "      <th>4</th>\n",
       "      <td>22</td>\n",
       "      <td>2022-01-01 01:28:34</td>\n",
       "      <td>sp1-vm-newyork-us.samknows.com</td>\n",
       "      <td>18359</td>\n",
       "      <td>13986</td>\n",
       "      <td>33229</td>\n",
       "      <td>2249</td>\n",
       "      <td>271</td>\n",
       "      <td>0</td>\n",
       "      <td>0</td>\n",
       "      <td>Verizon</td>\n",
       "      <td>Fiber</td>\n",
       "    </tr>\n",
       "  </tbody>\n",
       "</table>\n",
       "</div>"
      ],
      "text/plain": [
       "   unit_id                dtime                          target  rtt_avg  \\\n",
       "0       22  2022-01-01 00:28:36  sp2-vm-newyork-us.samknows.com    17906   \n",
       "1       22  2022-01-01 00:28:36     newyorkfcc.west.verizon.net    18635   \n",
       "2       22  2022-01-01 00:52:23  sp2-vm-newyork-us.samknows.com    18074   \n",
       "3       22  2022-01-01 00:52:23     newyorkfcc.west.verizon.net    19000   \n",
       "4       22  2022-01-01 01:28:34  sp1-vm-newyork-us.samknows.com    18359   \n",
       "\n",
       "   rtt_min  rtt_max  rtt_std  successes  failures  Cluster operator_name  \\\n",
       "0    14043    27800     1651        711         0        0       Verizon   \n",
       "1    16657    33193     2429        711         0        0       Verizon   \n",
       "2    14834    26625     1569        220         0        0       Verizon   \n",
       "3    16714    29388     2542        220         0        0       Verizon   \n",
       "4    13986    33229     2249        271         0        0       Verizon   \n",
       "\n",
       "  operator_technology  \n",
       "0               Fiber  \n",
       "1               Fiber  \n",
       "2               Fiber  \n",
       "3               Fiber  \n",
       "4               Fiber  "
      ]
     },
     "execution_count": 192,
     "metadata": {},
     "output_type": "execute_result"
    }
   ],
   "source": [
    "kmeans = KMeans(n_clusters=6, max_iter=1000, random_state=0, n_init=\"auto\").fit(X)\n",
    "data_copy = data.copy(deep=True)\n",
    "data_copy['Cluster'] = kmeans.labels_\n",
    "\n",
    "unit_id_map = pd.read_csv('202201/unit_id_mapping.csv')\n",
    "merged_data = pd.merge(data_copy, unit_id_map, how=\"left\", on=\"unit_id\")\n",
    "merged_data['operator_name'] = pd.Categorical(merged_data.operator_name)\n",
    "merged_data['operator_technology'] = pd.Categorical(merged_data.operator_technology)\n",
    "merged_data.head()"
   ]
  },
  {
   "cell_type": "markdown",
   "metadata": {},
   "source": [
    "### Summary based on Operator"
   ]
  },
  {
   "cell_type": "code",
   "execution_count": 193,
   "metadata": {},
   "outputs": [
    {
     "name": "stdout",
     "output_type": "stream",
     "text": [
      "+-------+------------------+-------------+-------------+-------------+-------------+-------------+-------------+\n",
      "|       | operator_name    |   Cluster 0 |   Cluster 1 |   Cluster 2 |   Cluster 3 |   Cluster 4 |   Cluster 5 |\n",
      "+=======+==================+=============+=============+=============+=============+=============+=============+\n",
      "| 0     | Comcast          |      896674 |        1868 |        4809 |       16079 |        5635 |          86 |\n",
      "+-------+------------------+-------------+-------------+-------------+-------------+-------------+-------------+\n",
      "| 1     | CenturyLink      |      778024 |        4451 |       32403 |      301934 |       11249 |         566 |\n",
      "+-------+------------------+-------------+-------------+-------------+-------------+-------------+-------------+\n",
      "| 2     | Charter          |      694862 |         467 |        4458 |       91897 |        1026 |          16 |\n",
      "+-------+------------------+-------------+-------------+-------------+-------------+-------------+-------------+\n",
      "| 3     | Frontier         |      658119 |        2180 |       13930 |       40459 |        3649 |        1694 |\n",
      "+-------+------------------+-------------+-------------+-------------+-------------+-------------+-------------+\n",
      "| 4     | Verizon          |      513392 |         398 |        5342 |       15794 |        1364 |          59 |\n",
      "+-------+------------------+-------------+-------------+-------------+-------------+-------------+-------------+\n",
      "| 5     | Cox              |      336623 |         251 |         605 |       11683 |         125 |         390 |\n",
      "+-------+------------------+-------------+-------------+-------------+-------------+-------------+-------------+\n",
      "| 6     | Cablevision      |      327435 |         101 |        2840 |        3503 |         523 |          10 |\n",
      "+-------+------------------+-------------+-------------+-------------+-------------+-------------+-------------+\n",
      "| 7     | Windstream       |      232706 |        1361 |        8249 |       26316 |        2598 |         249 |\n",
      "+-------+------------------+-------------+-------------+-------------+-------------+-------------+-------------+\n",
      "| 8     | Mediacom         |      222103 |         203 |        1660 |       15460 |         482 |          50 |\n",
      "+-------+------------------+-------------+-------------+-------------+-------------+-------------+-------------+\n",
      "| 9     | Cincinnati Bell  |      221257 |         428 |        1197 |        9095 |         341 |          15 |\n",
      "+-------+------------------+-------------+-------------+-------------+-------------+-------------+-------------+\n",
      "| 10    | Hawaiian Telecom |       51139 |           0 |        1127 |        4854 |          17 |           1 |\n",
      "+-------+------------------+-------------+-------------+-------------+-------------+-------------+-------------+\n",
      "| 11    | AT&T             |       32302 |          46 |         343 |        1058 |          90 |           1 |\n",
      "+-------+------------------+-------------+-------------+-------------+-------------+-------------+-------------+\n",
      "| 12    | Optimum          |        7396 |           0 |          12 |          51 |           2 |           0 |\n",
      "+-------+------------------+-------------+-------------+-------------+-------------+-------------+-------------+\n",
      "| Total | nan              |     4972032 |       11754 |       76975 |      538183 |       27101 |        3137 |\n",
      "+-------+------------------+-------------+-------------+-------------+-------------+-------------+-------------+\n"
     ]
    }
   ],
   "source": [
    "from functools import reduce\n",
    "op_stats_0 = merged_data[merged_data[\"Cluster\"] == 0].groupby([\"operator_name\"])[\"operator_name\"].count().sort_values(ascending=False).reset_index(name=\"Cluster 0\")\n",
    "op_stats_1 = merged_data[merged_data[\"Cluster\"] == 1].groupby([\"operator_name\"])[\"operator_name\"].count().sort_values(ascending=False).reset_index(name=\"Cluster 1\")\n",
    "op_stats_2 = merged_data[merged_data[\"Cluster\"] == 2].groupby([\"operator_name\"])[\"operator_name\"].count().sort_values(ascending=False).reset_index(name=\"Cluster 2\")\n",
    "op_stats_3 = merged_data[merged_data[\"Cluster\"] == 3].groupby([\"operator_name\"])[\"operator_name\"].count().sort_values(ascending=False).reset_index(name=\"Cluster 3\")\n",
    "op_stats_4 = merged_data[merged_data[\"Cluster\"] == 4].groupby([\"operator_name\"])[\"operator_name\"].count().sort_values(ascending=False).reset_index(name=\"Cluster 4\")\n",
    "op_stats_5 = merged_data[merged_data[\"Cluster\"] == 5].groupby([\"operator_name\"])[\"operator_name\"].count().sort_values(ascending=False).reset_index(name=\"Cluster 5\")\n",
    "all_op_stats = [op_stats_0, op_stats_1, op_stats_2, op_stats_3, op_stats_4, op_stats_5]\n",
    "\n",
    "op_stats = reduce(lambda df_left, df_right: pd.merge(df_left, df_right, how='outer', on='operator_name'), all_op_stats).fillna(0)\n",
    "op_stats.loc['Total'] = op_stats[['Cluster 0','Cluster 1','Cluster 2','Cluster 3','Cluster 4','Cluster 5']].sum()\n",
    "print(op_stats.to_markdown(tablefmt=\"grid\", floatfmt='.0f'))"
   ]
  },
  {
   "cell_type": "markdown",
   "metadata": {},
   "source": [
    "### Summary Based on Technology"
   ]
  },
  {
   "cell_type": "code",
   "execution_count": 194,
   "metadata": {},
   "outputs": [
    {
     "name": "stdout",
     "output_type": "stream",
     "text": [
      "+-------+-----------------------+-------------+-------------+-------------+-------------+-------------+-------------+\n",
      "|       | operator_technology   |   Cluster 0 |   Cluster 1 |   Cluster 2 |   Cluster 3 |   Cluster 4 |   Cluster 5 |\n",
      "+=======+=======================+=============+=============+=============+=============+=============+=============+\n",
      "| 0     | Cable                 |     2169884 |        2778 |       11568 |      134301 |        7284 |         543 |\n",
      "+-------+-----------------------+-------------+-------------+-------------+-------------+-------------+-------------+\n",
      "| 1     | Fiber                 |     1267584 |         472 |        6083 |       24234 |        1577 |          61 |\n",
      "+-------+-----------------------+-------------+-------------+-------------+-------------+-------------+-------------+\n",
      "| 2     | DSL                   |     1204208 |        8403 |       56476 |      374613 |       17717 |        2522 |\n",
      "+-------+-----------------------+-------------+-------------+-------------+-------------+-------------+-------------+\n",
      "| 3     | Fixed Wireless        |         169 |           0 |           1 |         596 |           0 |           0 |\n",
      "+-------+-----------------------+-------------+-------------+-------------+-------------+-------------+-------------+\n",
      "| Total | nan                   |     4641845 |       11653 |       74128 |      533744 |       26578 |        3126 |\n",
      "+-------+-----------------------+-------------+-------------+-------------+-------------+-------------+-------------+\n"
     ]
    }
   ],
   "source": [
    "from functools import reduce\n",
    "op_stats_0 = merged_data[merged_data[\"Cluster\"] == 0].groupby([\"operator_technology\"])[\"operator_technology\"].count().sort_values(ascending=False).reset_index(name=\"Cluster 0\")\n",
    "op_stats_1 = merged_data[merged_data[\"Cluster\"] == 1].groupby([\"operator_technology\"])[\"operator_technology\"].count().sort_values(ascending=False).reset_index(name=\"Cluster 1\")\n",
    "op_stats_2 = merged_data[merged_data[\"Cluster\"] == 2].groupby([\"operator_technology\"])[\"operator_technology\"].count().sort_values(ascending=False).reset_index(name=\"Cluster 2\")\n",
    "op_stats_3 = merged_data[merged_data[\"Cluster\"] == 3].groupby([\"operator_technology\"])[\"operator_technology\"].count().sort_values(ascending=False).reset_index(name=\"Cluster 3\")\n",
    "op_stats_4 = merged_data[merged_data[\"Cluster\"] == 4].groupby([\"operator_technology\"])[\"operator_technology\"].count().sort_values(ascending=False).reset_index(name=\"Cluster 4\")\n",
    "op_stats_5 = merged_data[merged_data[\"Cluster\"] == 5].groupby([\"operator_technology\"])[\"operator_technology\"].count().sort_values(ascending=False).reset_index(name=\"Cluster 5\")\n",
    "all_op_stats = [op_stats_0, op_stats_1, op_stats_2, op_stats_3, op_stats_4, op_stats_5]\n",
    "\n",
    "op_stats = reduce(lambda df_left, df_right: pd.merge(df_left, df_right, how='outer', on='operator_technology'), all_op_stats).fillna(0)\n",
    "op_stats.loc['Total'] = op_stats[['Cluster 0','Cluster 1','Cluster 2','Cluster 3','Cluster 4','Cluster 5']].sum()\n",
    "print(op_stats.to_markdown(tablefmt=\"grid\", floatfmt='.0f'))"
   ]
  },
  {
   "cell_type": "markdown",
   "metadata": {},
   "source": [
    "### Summary based on rtt_avg"
   ]
  },
  {
   "cell_type": "code",
   "execution_count": 195,
   "metadata": {},
   "outputs": [
    {
     "data": {
      "image/png": "[encoded data removed]",
      "text/plain": [
       "<Figure size 640x480 with 1 Axes>"
      ]
     },
     "metadata": {},
     "output_type": "display_data"
    }
   ],
   "source": [
    "cluster_0 = merged_data[merged_data[\"Cluster\"] == 0]\n",
    "cluster_1 = merged_data[merged_data[\"Cluster\"] == 1]\n",
    "cluster_2 = merged_data[merged_data[\"Cluster\"] == 2]\n",
    "cluster_3 = merged_data[merged_data[\"Cluster\"] == 3]\n",
    "cluster_4 = merged_data[merged_data[\"Cluster\"] == 4]\n",
    "cluster_5 = merged_data[merged_data[\"Cluster\"] == 5]\n",
    "all_clusters = pd.concat([cluster_0['rtt_avg'], cluster_1['rtt_avg'], cluster_2['rtt_avg'], cluster_3['rtt_avg'], cluster_4['rtt_avg'], cluster_5['rtt_avg']], axis=1)\n",
    "all_clusters.columns = ['Cluster 0','Cluster 1', 'Cluster 2', 'Cluster 3', 'Cluster 4', 'CLuster 5']\n",
    "all_clusters.plot(kind=\"box\", title=\"Latencies in each Cluster\")\n",
    "plt.show()\n",
    "\n",
    "# ax = cluster_0[['rtt_avg']].plot(kind=\"box\")\n",
    "# plt.hist(latencies)"
   ]
  },
  {
   "cell_type": "markdown",
   "metadata": {},
   "source": [
    "## Cluster based on the features - target, rtt_min, rtt_avg, rtt_max"
   ]
  },
  {
   "cell_type": "markdown",
   "metadata": {},
   "source": [
    "#### find optimum value of K"
   ]
  },
  {
   "cell_type": "code",
   "execution_count": 197,
   "metadata": {},
   "outputs": [
    {
     "data": {
      "image/png": "[encoded data removed]",
      "text/plain": [
       "<Figure size 640x480 with 1 Axes>"
      ]
     },
     "metadata": {},
     "output_type": "display_data"
    }
   ],
   "source": [
    "targets = data['target']\n",
    "le = LabelEncoder()\n",
    "data['target'] = le.fit_transform(data['target'])\n",
    "X = data[['target', 'rtt_min', 'rtt_avg', 'rtt_max']].to_numpy()\n",
    "\n",
    "sse = {}\n",
    "for k in range(1, 10):\n",
    "    kmeans = KMeans(n_clusters=k, max_iter=1000, random_state=0, n_init=\"auto\").fit(X)\n",
    "    # data[\"Cluster\"] = kmeans.labels_\n",
    "    #print(data[\"clusters\"])\n",
    "    sse[k] = kmeans.inertia_ # Inertia: Sum of distances of samples to their closest cluster center\n",
    "plt.figure()\n",
    "plt.plot(list(sse.keys()), list(sse.values()))\n",
    "plt.xlabel(\"Number of cluster\")\n",
    "plt.ylabel(\"SSE\")\n",
    "plt.show()"
   ]
  },
  {
   "cell_type": "markdown",
   "metadata": {},
   "source": [
    "#### select k=6 and make analyze the clusters"
   ]
  },
  {
   "cell_type": "code",
   "execution_count": 198,
   "metadata": {},
   "outputs": [
    {
     "data": {
      "text/html": [
       "<div>\n",
       "<style scoped>\n",
       "    .dataframe tbody tr th:only-of-type {\n",
       "        vertical-align: middle;\n",
       "    }\n",
       "\n",
       "    .dataframe tbody tr th {\n",
       "        vertical-align: top;\n",
       "    }\n",
       "\n",
       "    .dataframe thead th {\n",
       "        text-align: right;\n",
       "    }\n",
       "</style>\n",
       "<table border=\"1\" class=\"dataframe\">\n",
       "  <thead>\n",
       "    <tr style=\"text-align: right;\">\n",
       "      <th></th>\n",
       "      <th>unit_id</th>\n",
       "      <th>dtime</th>\n",
       "      <th>target</th>\n",
       "      <th>rtt_avg</th>\n",
       "      <th>rtt_min</th>\n",
       "      <th>rtt_max</th>\n",
       "      <th>rtt_std</th>\n",
       "      <th>successes</th>\n",
       "      <th>failures</th>\n",
       "      <th>Cluster</th>\n",
       "      <th>operator_name</th>\n",
       "      <th>operator_technology</th>\n",
       "    </tr>\n",
       "  </thead>\n",
       "  <tbody>\n",
       "    <tr>\n",
       "      <th>0</th>\n",
       "      <td>22</td>\n",
       "      <td>2022-01-01 00:28:36</td>\n",
       "      <td>84</td>\n",
       "      <td>17906</td>\n",
       "      <td>14043</td>\n",
       "      <td>27800</td>\n",
       "      <td>1651</td>\n",
       "      <td>711</td>\n",
       "      <td>0</td>\n",
       "      <td>0</td>\n",
       "      <td>Verizon</td>\n",
       "      <td>Fiber</td>\n",
       "    </tr>\n",
       "    <tr>\n",
       "      <th>1</th>\n",
       "      <td>22</td>\n",
       "      <td>2022-01-01 00:28:36</td>\n",
       "      <td>49</td>\n",
       "      <td>18635</td>\n",
       "      <td>16657</td>\n",
       "      <td>33193</td>\n",
       "      <td>2429</td>\n",
       "      <td>711</td>\n",
       "      <td>0</td>\n",
       "      <td>0</td>\n",
       "      <td>Verizon</td>\n",
       "      <td>Fiber</td>\n",
       "    </tr>\n",
       "    <tr>\n",
       "      <th>2</th>\n",
       "      <td>22</td>\n",
       "      <td>2022-01-01 00:52:23</td>\n",
       "      <td>84</td>\n",
       "      <td>18074</td>\n",
       "      <td>14834</td>\n",
       "      <td>26625</td>\n",
       "      <td>1569</td>\n",
       "      <td>220</td>\n",
       "      <td>0</td>\n",
       "      <td>0</td>\n",
       "      <td>Verizon</td>\n",
       "      <td>Fiber</td>\n",
       "    </tr>\n",
       "    <tr>\n",
       "      <th>3</th>\n",
       "      <td>22</td>\n",
       "      <td>2022-01-01 00:52:23</td>\n",
       "      <td>49</td>\n",
       "      <td>19000</td>\n",
       "      <td>16714</td>\n",
       "      <td>29388</td>\n",
       "      <td>2542</td>\n",
       "      <td>220</td>\n",
       "      <td>0</td>\n",
       "      <td>0</td>\n",
       "      <td>Verizon</td>\n",
       "      <td>Fiber</td>\n",
       "    </tr>\n",
       "    <tr>\n",
       "      <th>4</th>\n",
       "      <td>22</td>\n",
       "      <td>2022-01-01 01:28:34</td>\n",
       "      <td>79</td>\n",
       "      <td>18359</td>\n",
       "      <td>13986</td>\n",
       "      <td>33229</td>\n",
       "      <td>2249</td>\n",
       "      <td>271</td>\n",
       "      <td>0</td>\n",
       "      <td>0</td>\n",
       "      <td>Verizon</td>\n",
       "      <td>Fiber</td>\n",
       "    </tr>\n",
       "  </tbody>\n",
       "</table>\n",
       "</div>"
      ],
      "text/plain": [
       "   unit_id                dtime  target  rtt_avg  rtt_min  rtt_max  rtt_std  \\\n",
       "0       22  2022-01-01 00:28:36      84    17906    14043    27800     1651   \n",
       "1       22  2022-01-01 00:28:36      49    18635    16657    33193     2429   \n",
       "2       22  2022-01-01 00:52:23      84    18074    14834    26625     1569   \n",
       "3       22  2022-01-01 00:52:23      49    19000    16714    29388     2542   \n",
       "4       22  2022-01-01 01:28:34      79    18359    13986    33229     2249   \n",
       "\n",
       "   successes  failures  Cluster operator_name operator_technology  \n",
       "0        711         0        0       Verizon               Fiber  \n",
       "1        711         0        0       Verizon               Fiber  \n",
       "2        220         0        0       Verizon               Fiber  \n",
       "3        220         0        0       Verizon               Fiber  \n",
       "4        271         0        0       Verizon               Fiber  "
      ]
     },
     "execution_count": 198,
     "metadata": {},
     "output_type": "execute_result"
    }
   ],
   "source": [
    "kmeans = KMeans(n_clusters=6, max_iter=1000, random_state=0, n_init=\"auto\").fit(X)\n",
    "data_copy = data.copy(deep=True)\n",
    "data_copy['Cluster'] = kmeans.labels_\n",
    "\n",
    "unit_id_map = pd.read_csv('202201/unit_id_mapping.csv')\n",
    "merged_data = pd.merge(data_copy, unit_id_map, how=\"left\", on=\"unit_id\")\n",
    "merged_data['operator_name'] = pd.Categorical(merged_data.operator_name)\n",
    "merged_data['operator_technology'] = pd.Categorical(merged_data.operator_technology)\n",
    "merged_data.head()"
   ]
  },
  {
   "cell_type": "code",
   "execution_count": 204,
   "metadata": {},
   "outputs": [
    {
     "data": {
      "text/plain": [
       "Cluster\n",
       "0    5278057\n",
       "1      15409\n",
       "2      87255\n",
       "3     589618\n",
       "4      29478\n",
       "5      23263\n",
       "Name: unit_id, dtype: int64"
      ]
     },
     "execution_count": 204,
     "metadata": {},
     "output_type": "execute_result"
    }
   ],
   "source": [
    "merged_data.groupby(['Cluster'])['unit_id'].count()"
   ]
  },
  {
   "cell_type": "markdown",
   "metadata": {},
   "source": [
    "### Summary based on Operator"
   ]
  },
  {
   "cell_type": "code",
   "execution_count": 199,
   "metadata": {},
   "outputs": [
    {
     "name": "stdout",
     "output_type": "stream",
     "text": [
      "+-------+------------------+-------------+-------------+-------------+-------------+-------------+-------------+\n",
      "|       | operator_name    |   Cluster 0 |   Cluster 1 |   Cluster 2 |   Cluster 3 |   Cluster 4 |   Cluster 5 |\n",
      "+=======+==================+=============+=============+=============+=============+=============+=============+\n",
      "| 0     | Comcast          |      896644 |        1871 |        4810 |       16107 |        5633 |          86 |\n",
      "+-------+------------------+-------------+-------------+-------------+-------------+-------------+-------------+\n",
      "| 1     | CenturyLink      |      777232 |        4452 |       32454 |      302664 |       11259 |         566 |\n",
      "+-------+------------------+-------------+-------------+-------------+-------------+-------------+-------------+\n",
      "| 2     | Charter          |      694751 |         467 |        4466 |       92000 |        1026 |          16 |\n",
      "+-------+------------------+-------------+-------------+-------------+-------------+-------------+-------------+\n",
      "| 3     | Frontier         |      658066 |        2180 |       13948 |       40491 |        3652 |        1694 |\n",
      "+-------+------------------+-------------+-------------+-------------+-------------+-------------+-------------+\n",
      "| 4     | Verizon          |      513373 |         398 |        5346 |       15809 |        1364 |          59 |\n",
      "+-------+------------------+-------------+-------------+-------------+-------------+-------------+-------------+\n",
      "| 5     | Cox              |      336588 |         251 |         610 |       11711 |         127 |         390 |\n",
      "+-------+------------------+-------------+-------------+-------------+-------------+-------------+-------------+\n",
      "| 6     | Cablevision      |      327424 |         101 |        2841 |        3513 |         523 |          10 |\n",
      "+-------+------------------+-------------+-------------+-------------+-------------+-------------+-------------+\n",
      "| 7     | Windstream       |      232658 |        1361 |        8258 |       26353 |        2600 |         249 |\n",
      "+-------+------------------+-------------+-------------+-------------+-------------+-------------+-------------+\n",
      "| 8     | Mediacom         |      222071 |         203 |        1664 |       15487 |         483 |          50 |\n",
      "+-------+------------------+-------------+-------------+-------------+-------------+-------------+-------------+\n",
      "| 9     | Cincinnati Bell  |      221247 |         428 |        1198 |        9104 |         341 |          15 |\n",
      "+-------+------------------+-------------+-------------+-------------+-------------+-------------+-------------+\n",
      "| 10    | Hawaiian Telecom |       51133 |           0 |        1129 |        4858 |          17 |           1 |\n",
      "+-------+------------------+-------------+-------------+-------------+-------------+-------------+-------------+\n",
      "| 11    | AT&T             |       32300 |          46 |         343 |        1060 |          90 |           1 |\n",
      "+-------+------------------+-------------+-------------+-------------+-------------+-------------+-------------+\n",
      "| 12    | Optimum          |        7396 |           0 |          12 |          51 |           2 |           0 |\n",
      "+-------+------------------+-------------+-------------+-------------+-------------+-------------+-------------+\n",
      "| Total | nan              |     4970883 |       11758 |       77079 |      539208 |       27117 |        3137 |\n",
      "+-------+------------------+-------------+-------------+-------------+-------------+-------------+-------------+\n"
     ]
    }
   ],
   "source": [
    "from functools import reduce\n",
    "op_stats_0 = merged_data[merged_data[\"Cluster\"] == 0].groupby([\"operator_name\"])[\"operator_name\"].count().sort_values(ascending=False).reset_index(name=\"Cluster 0\")\n",
    "op_stats_1 = merged_data[merged_data[\"Cluster\"] == 1].groupby([\"operator_name\"])[\"operator_name\"].count().sort_values(ascending=False).reset_index(name=\"Cluster 1\")\n",
    "op_stats_2 = merged_data[merged_data[\"Cluster\"] == 2].groupby([\"operator_name\"])[\"operator_name\"].count().sort_values(ascending=False).reset_index(name=\"Cluster 2\")\n",
    "op_stats_3 = merged_data[merged_data[\"Cluster\"] == 3].groupby([\"operator_name\"])[\"operator_name\"].count().sort_values(ascending=False).reset_index(name=\"Cluster 3\")\n",
    "op_stats_4 = merged_data[merged_data[\"Cluster\"] == 4].groupby([\"operator_name\"])[\"operator_name\"].count().sort_values(ascending=False).reset_index(name=\"Cluster 4\")\n",
    "op_stats_5 = merged_data[merged_data[\"Cluster\"] == 5].groupby([\"operator_name\"])[\"operator_name\"].count().sort_values(ascending=False).reset_index(name=\"Cluster 5\")\n",
    "all_op_stats = [op_stats_0, op_stats_1, op_stats_2, op_stats_3, op_stats_4, op_stats_5]\n",
    "\n",
    "op_stats = reduce(lambda df_left, df_right: pd.merge(df_left, df_right, how='outer', on='operator_name'), all_op_stats).fillna(0)\n",
    "op_stats.loc['Total'] = op_stats[['Cluster 0','Cluster 1','Cluster 2','Cluster 3','Cluster 4','Cluster 5']].sum()\n",
    "print(op_stats.to_markdown(tablefmt=\"grid\", floatfmt='.0f'))"
   ]
  },
  {
   "cell_type": "markdown",
   "metadata": {},
   "source": [
    "### Summary Based on Technology"
   ]
  },
  {
   "cell_type": "code",
   "execution_count": 200,
   "metadata": {},
   "outputs": [
    {
     "name": "stdout",
     "output_type": "stream",
     "text": [
      "+-------+-----------------------+-------------+-------------+-------------+-------------+-------------+-------------+\n",
      "|       | operator_technology   |   Cluster 0 |   Cluster 1 |   Cluster 2 |   Cluster 3 |   Cluster 4 |   Cluster 5 |\n",
      "+=======+=======================+=============+=============+=============+=============+=============+=============+\n",
      "| 0     | Cable                 |     2169676 |        2781 |       11586 |      134487 |        7285 |         543 |\n",
      "+-------+-----------------------+-------------+-------------+-------------+-------------+-------------+-------------+\n",
      "| 1     | Fiber                 |     1267534 |         472 |        6086 |       24280 |        1578 |          61 |\n",
      "+-------+-----------------------+-------------+-------------+-------------+-------------+-------------+-------------+\n",
      "| 2     | DSL                   |     1203330 |        8404 |       56558 |      375394 |       17731 |        2522 |\n",
      "+-------+-----------------------+-------------+-------------+-------------+-------------+-------------+-------------+\n",
      "| 3     | Fixed Wireless        |         169 |           0 |           1 |         596 |           0 |           0 |\n",
      "+-------+-----------------------+-------------+-------------+-------------+-------------+-------------+-------------+\n",
      "| Total | nan                   |     4640709 |       11657 |       74231 |      534757 |       26594 |        3126 |\n",
      "+-------+-----------------------+-------------+-------------+-------------+-------------+-------------+-------------+\n"
     ]
    }
   ],
   "source": [
    "from functools import reduce\n",
    "op_stats_0 = merged_data[merged_data[\"Cluster\"] == 0].groupby([\"operator_technology\"])[\"operator_technology\"].count().sort_values(ascending=False).reset_index(name=\"Cluster 0\")\n",
    "op_stats_1 = merged_data[merged_data[\"Cluster\"] == 1].groupby([\"operator_technology\"])[\"operator_technology\"].count().sort_values(ascending=False).reset_index(name=\"Cluster 1\")\n",
    "op_stats_2 = merged_data[merged_data[\"Cluster\"] == 2].groupby([\"operator_technology\"])[\"operator_technology\"].count().sort_values(ascending=False).reset_index(name=\"Cluster 2\")\n",
    "op_stats_3 = merged_data[merged_data[\"Cluster\"] == 3].groupby([\"operator_technology\"])[\"operator_technology\"].count().sort_values(ascending=False).reset_index(name=\"Cluster 3\")\n",
    "op_stats_4 = merged_data[merged_data[\"Cluster\"] == 4].groupby([\"operator_technology\"])[\"operator_technology\"].count().sort_values(ascending=False).reset_index(name=\"Cluster 4\")\n",
    "op_stats_5 = merged_data[merged_data[\"Cluster\"] == 5].groupby([\"operator_technology\"])[\"operator_technology\"].count().sort_values(ascending=False).reset_index(name=\"Cluster 5\")\n",
    "all_op_stats = [op_stats_0, op_stats_1, op_stats_2, op_stats_3, op_stats_4, op_stats_5]\n",
    "\n",
    "op_stats = reduce(lambda df_left, df_right: pd.merge(df_left, df_right, how='outer', on='operator_technology'), all_op_stats).fillna(0)\n",
    "op_stats.loc['Total'] = op_stats[['Cluster 0','Cluster 1','Cluster 2','Cluster 3','Cluster 4','Cluster 5']].sum()\n",
    "print(op_stats.to_markdown(tablefmt=\"grid\", floatfmt='.0f'))"
   ]
  },
  {
   "cell_type": "markdown",
   "metadata": {},
   "source": [
    "### Summary based on rtt_avg"
   ]
  },
  {
   "cell_type": "code",
   "execution_count": 201,
   "metadata": {},
   "outputs": [
    {
     "data": {
      "image/png": "[encoded data removed]",
      "text/plain": [
       "<Figure size 640x480 with 1 Axes>"
      ]
     },
     "metadata": {},
     "output_type": "display_data"
    }
   ],
   "source": [
    "cluster_0 = merged_data[merged_data[\"Cluster\"] == 0]\n",
    "cluster_1 = merged_data[merged_data[\"Cluster\"] == 1]\n",
    "cluster_2 = merged_data[merged_data[\"Cluster\"] == 2]\n",
    "cluster_3 = merged_data[merged_data[\"Cluster\"] == 3]\n",
    "cluster_4 = merged_data[merged_data[\"Cluster\"] == 4]\n",
    "cluster_5 = merged_data[merged_data[\"Cluster\"] == 5]\n",
    "all_clusters = pd.concat([cluster_0['rtt_avg'], cluster_1['rtt_avg'], cluster_2['rtt_avg'], cluster_3['rtt_avg'], cluster_4['rtt_avg'], cluster_5['rtt_avg']], axis=1)\n",
    "all_clusters.columns = ['Cluster 0','Cluster 1', 'Cluster 2', 'Cluster 3', 'Cluster 4', 'CLuster 5']\n",
    "all_clusters.plot(kind=\"box\", title=\"Latencies in each Cluster\")\n",
    "plt.show()"
   ]
  },
  {
   "cell_type": "code",
   "execution_count": null,
   "metadata": {},
   "outputs": [],
   "source": []
  },
  {
   "cell_type": "markdown",
   "metadata": {},
   "source": [
    "# Scratch Work"
   ]
  },
  {
   "cell_type": "code",
   "execution_count": 9,
   "metadata": {},
   "outputs": [],
   "source": [
    "targets = data['target']\n",
    "le = LabelEncoder()\n",
    "data['target'] = le.fit_transform(data['target'])"
   ]
  },
  {
   "cell_type": "code",
   "execution_count": 11,
   "metadata": {},
   "outputs": [],
   "source": [
    "X = data[['target', 'rtt_avg']].to_numpy()"
   ]
  },
  {
   "cell_type": "code",
   "execution_count": 12,
   "metadata": {},
   "outputs": [
    {
     "data": {
      "text/plain": [
       "array([[   84, 17906],\n",
       "       [   49, 18635],\n",
       "       [   84, 18074],\n",
       "       [   49, 19000],\n",
       "       [   79, 18359]])"
      ]
     },
     "execution_count": 12,
     "metadata": {},
     "output_type": "execute_result"
    }
   ],
   "source": [
    "X[:5]"
   ]
  },
  {
   "cell_type": "code",
   "execution_count": 13,
   "metadata": {},
   "outputs": [],
   "source": [
    "kmeans = KMeans(n_clusters=5, random_state=0, n_init=\"auto\").fit(X)"
   ]
  },
  {
   "cell_type": "code",
   "execution_count": 50,
   "metadata": {},
   "outputs": [],
   "source": [
    "outputs = kmeans.predict(data[['target', 'rtt_avg']].to_numpy())"
   ]
  },
  {
   "cell_type": "code",
   "execution_count": 53,
   "metadata": {},
   "outputs": [
    {
     "data": {
      "text/plain": [
       "Counter({0: 5127086, 2: 828987, 3: 3891, 1: 31965, 4: 31151})"
      ]
     },
     "execution_count": 53,
     "metadata": {},
     "output_type": "execute_result"
    }
   ],
   "source": [
    "from collections import Counter\n",
    "Counter(outputs)"
   ]
  },
  {
   "cell_type": "code",
   "execution_count": 63,
   "metadata": {},
   "outputs": [],
   "source": [
    "data_new = data.copy(deep=True)"
   ]
  },
  {
   "cell_type": "code",
   "execution_count": 64,
   "metadata": {},
   "outputs": [],
   "source": [
    "data_new['Cluster'] = data_new[['target', 'rtt_avg']].apply(lambda x: kmeans.predict([x])[0],axis=1)"
   ]
  },
  {
   "cell_type": "code",
   "execution_count": 65,
   "metadata": {},
   "outputs": [
    {
     "data": {
      "text/plain": [
       "[0, 2, 3, 1, 4]"
      ]
     },
     "execution_count": 65,
     "metadata": {},
     "output_type": "execute_result"
    }
   ],
   "source": [
    "data_new['Cluster'].unique().tolist()"
   ]
  },
  {
   "cell_type": "code",
   "execution_count": 68,
   "metadata": {},
   "outputs": [],
   "source": [
    "data_new_2 = data.assign(Cluster = lambda x: kmeans.predict(x[['target', 'rtt_avg']].to_numpy()))"
   ]
  },
  {
   "cell_type": "code",
   "execution_count": 71,
   "metadata": {},
   "outputs": [
    {
     "data": {
      "text/plain": [
       "[0, 2, 3, 1, 4]"
      ]
     },
     "execution_count": 71,
     "metadata": {},
     "output_type": "execute_result"
    }
   ],
   "source": [
    "data_new_2['Cluster'].unique().tolist()"
   ]
  },
  {
   "cell_type": "code",
   "execution_count": 87,
   "metadata": {},
   "outputs": [],
   "source": [
    "unit_id_map = pd.read_csv('202201/unit_id_mapping.csv')"
   ]
  },
  {
   "cell_type": "code",
   "execution_count": 88,
   "metadata": {},
   "outputs": [],
   "source": [
    "merged_data = pd.merge(data_new_2, unit_id_map, how=\"left\", on=\"unit_id\")"
   ]
  },
  {
   "cell_type": "code",
   "execution_count": 105,
   "metadata": {},
   "outputs": [],
   "source": [
    "merged_data['operator_name'] = pd.Categorical(merged_data.operator_name)\n",
    "merged_data['operator_technology'] = pd.Categorical(merged_data.operator_technology)"
   ]
  },
  {
   "cell_type": "code",
   "execution_count": 106,
   "metadata": {},
   "outputs": [
    {
     "data": {
      "text/html": [
       "<div>\n",
       "<style scoped>\n",
       "    .dataframe tbody tr th:only-of-type {\n",
       "        vertical-align: middle;\n",
       "    }\n",
       "\n",
       "    .dataframe tbody tr th {\n",
       "        vertical-align: top;\n",
       "    }\n",
       "\n",
       "    .dataframe thead th {\n",
       "        text-align: right;\n",
       "    }\n",
       "</style>\n",
       "<table border=\"1\" class=\"dataframe\">\n",
       "  <thead>\n",
       "    <tr style=\"text-align: right;\">\n",
       "      <th></th>\n",
       "      <th>unit_id</th>\n",
       "      <th>dtime</th>\n",
       "      <th>target</th>\n",
       "      <th>rtt_avg</th>\n",
       "      <th>rtt_min</th>\n",
       "      <th>rtt_max</th>\n",
       "      <th>rtt_std</th>\n",
       "      <th>successes</th>\n",
       "      <th>failures</th>\n",
       "      <th>Cluster</th>\n",
       "      <th>operator_name</th>\n",
       "      <th>operator_technology</th>\n",
       "    </tr>\n",
       "  </thead>\n",
       "  <tbody>\n",
       "    <tr>\n",
       "      <th>0</th>\n",
       "      <td>22</td>\n",
       "      <td>2022-01-01 00:28:36</td>\n",
       "      <td>84</td>\n",
       "      <td>17906</td>\n",
       "      <td>14043</td>\n",
       "      <td>27800</td>\n",
       "      <td>1651</td>\n",
       "      <td>711</td>\n",
       "      <td>0</td>\n",
       "      <td>0</td>\n",
       "      <td>Verizon</td>\n",
       "      <td>Fiber</td>\n",
       "    </tr>\n",
       "    <tr>\n",
       "      <th>1</th>\n",
       "      <td>22</td>\n",
       "      <td>2022-01-01 00:28:36</td>\n",
       "      <td>49</td>\n",
       "      <td>18635</td>\n",
       "      <td>16657</td>\n",
       "      <td>33193</td>\n",
       "      <td>2429</td>\n",
       "      <td>711</td>\n",
       "      <td>0</td>\n",
       "      <td>0</td>\n",
       "      <td>Verizon</td>\n",
       "      <td>Fiber</td>\n",
       "    </tr>\n",
       "    <tr>\n",
       "      <th>2</th>\n",
       "      <td>22</td>\n",
       "      <td>2022-01-01 00:52:23</td>\n",
       "      <td>84</td>\n",
       "      <td>18074</td>\n",
       "      <td>14834</td>\n",
       "      <td>26625</td>\n",
       "      <td>1569</td>\n",
       "      <td>220</td>\n",
       "      <td>0</td>\n",
       "      <td>0</td>\n",
       "      <td>Verizon</td>\n",
       "      <td>Fiber</td>\n",
       "    </tr>\n",
       "    <tr>\n",
       "      <th>3</th>\n",
       "      <td>22</td>\n",
       "      <td>2022-01-01 00:52:23</td>\n",
       "      <td>49</td>\n",
       "      <td>19000</td>\n",
       "      <td>16714</td>\n",
       "      <td>29388</td>\n",
       "      <td>2542</td>\n",
       "      <td>220</td>\n",
       "      <td>0</td>\n",
       "      <td>0</td>\n",
       "      <td>Verizon</td>\n",
       "      <td>Fiber</td>\n",
       "    </tr>\n",
       "    <tr>\n",
       "      <th>4</th>\n",
       "      <td>22</td>\n",
       "      <td>2022-01-01 01:28:34</td>\n",
       "      <td>79</td>\n",
       "      <td>18359</td>\n",
       "      <td>13986</td>\n",
       "      <td>33229</td>\n",
       "      <td>2249</td>\n",
       "      <td>271</td>\n",
       "      <td>0</td>\n",
       "      <td>0</td>\n",
       "      <td>Verizon</td>\n",
       "      <td>Fiber</td>\n",
       "    </tr>\n",
       "  </tbody>\n",
       "</table>\n",
       "</div>"
      ],
      "text/plain": [
       "   unit_id                dtime  target  rtt_avg  rtt_min  rtt_max  rtt_std  \\\n",
       "0       22  2022-01-01 00:28:36      84    17906    14043    27800     1651   \n",
       "1       22  2022-01-01 00:28:36      49    18635    16657    33193     2429   \n",
       "2       22  2022-01-01 00:52:23      84    18074    14834    26625     1569   \n",
       "3       22  2022-01-01 00:52:23      49    19000    16714    29388     2542   \n",
       "4       22  2022-01-01 01:28:34      79    18359    13986    33229     2249   \n",
       "\n",
       "   successes  failures  Cluster operator_name operator_technology  \n",
       "0        711         0        0       Verizon               Fiber  \n",
       "1        711         0        0       Verizon               Fiber  \n",
       "2        220         0        0       Verizon               Fiber  \n",
       "3        220         0        0       Verizon               Fiber  \n",
       "4        271         0        0       Verizon               Fiber  "
      ]
     },
     "execution_count": 106,
     "metadata": {},
     "output_type": "execute_result"
    }
   ],
   "source": [
    "merged_data.head()"
   ]
  },
  {
   "cell_type": "code",
   "execution_count": null,
   "metadata": {},
   "outputs": [],
   "source": []
  }
 ],
 "metadata": {
  "kernelspec": {
   "display_name": "env",
   "language": "python",
   "name": "python3"
  },
  "language_info": {
   "codemirror_mode": {
    "name": "ipython",
    "version": 3
   },
   "file_extension": ".py",
   "mimetype": "text/x-python",
   "name": "python",
   "nbconvert_exporter": "python",
   "pygments_lexer": "ipython3",
   "version": "3.9.6"
  },
  "orig_nbformat": 4
 },
 "nbformat": 4,
 "nbformat_minor": 2
}
