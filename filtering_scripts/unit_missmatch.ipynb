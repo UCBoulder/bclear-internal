{
 "cells": [
  {
   "cell_type": "code",
   "execution_count": 114,
   "metadata": {},
   "outputs": [],
   "source": [
    "import csv\n",
    "import pandas as pd\n",
    "import numpy as np\n",
    "import seaborn as sns\n",
    "import matplotlib.pyplot as plt\n",
    "from datetime import datetime, time, timedelta\n",
    "import pytz"
   ]
  },
  {
   "cell_type": "code",
   "execution_count": 2,
   "metadata": {},
   "outputs": [],
   "source": [
    "def get_missmatch_units(unit_map, unit_profile):\n",
    "    unit_map = unit_map[unit_map[\"validation_type\"] == \"fcc\"]\n",
    "    unit_profile.rename(columns={\"Unit ID\": \"unit_id\", \"ISP\": \"profile_isp\", \"Technology\": \"profile_tech\"},inplace=True)\n",
    "    merged_df = pd.merge(unit_map, unit_profile, how=\"left\", on=\"unit_id\")\n",
    "    merged_df.drop(merged_df[(merged_df.operator_name == merged_df.profile_isp) & (merged_df.operator_technology == merged_df.profile_tech) ].index, inplace=True, axis=0)\n",
    "    return merged_df"
   ]
  },
  {
   "cell_type": "markdown",
   "metadata": {},
   "source": [
    "## Sept'21 "
   ]
  },
  {
   "cell_type": "code",
   "execution_count": 4,
   "metadata": {},
   "outputs": [
    {
     "name": "stdout",
     "output_type": "stream",
     "text": [
      "+------+-----------+-----------------+-----------------------+------------------+----------------+-------------------+-----------------+----------------+---------+----------+-------------------+-----------------------+------------+----------+------------------+\n",
      "|      |   unit_id | operator_name   | operator_technology   |   download_speed |   upload_speed | validation_type   | profile_isp     | profile_tech   | State   | Census   |   timezone_offset |   timezone_offset_dst |   Download |   Upload | Whitebox Model   |\n",
      "+======+===========+=================+=======================+==================+================+===================+=================+================+=========+==========+===================+=======================+============+==========+==================+\n",
      "|   52 |    566338 | Comcast         | Cable                 |            400.0 |           20.0 | fcc               | Charter         | Cable          | CA      | West     |                -6 |                    -5 |      400.0 |     20.0 | wdr3600          |\n",
      "+------+-----------+-----------------+-----------------------+------------------+----------------+-------------------+-----------------+----------------+---------+----------+-------------------+-----------------------+------------+----------+------------------+\n",
      "|  700 |  38658725 | CenturyLink     | Fiber                 |           1000.0 |           50.0 | fcc               | Mediacom        | Cable          | IL      | Midwest  |                -6 |                    -5 |     1000.0 |     50.0 | skwb8            |\n",
      "+------+-----------+-----------------+-----------------------+------------------+----------------+-------------------+-----------------+----------------+---------+----------+-------------------+-----------------------+------------+----------+------------------+\n",
      "|  793 |  39536053 | CenturyLink     | Fiber                 |           1000.0 |         1000.0 | fcc               | AT&T            | Fiber          | NV      | West     |                -8 |                    -7 |     1000.0 |   1000.0 | skwb8            |\n",
      "+------+-----------+-----------------+-----------------------+------------------+----------------+-------------------+-----------------+----------------+---------+----------+-------------------+-----------------------+------------+----------+------------------+\n",
      "|  984 |  24734545 | Charter         | Cable                 |           1000.0 |         1000.0 | fcc               | Frontier        | Fiber          | TX      | South    |                -6 |                    -5 |     1000.0 |   1000.0 | skwb8            |\n",
      "+------+-----------+-----------------+-----------------------+------------------+----------------+-------------------+-----------------+----------------+---------+----------+-------------------+-----------------------+------------+----------+------------------+\n",
      "|  987 |  24806665 | Charter         | Cable                 |            500.0 |          500.0 | fcc               | Frontier        | Fiber          | FL      | South    |                -5 |                    -4 |      500.0 |    500.0 | skwb8            |\n",
      "+------+-----------+-----------------+-----------------------+------------------+----------------+-------------------+-----------------+----------------+---------+----------+-------------------+-----------------------+------------+----------+------------------+\n",
      "|  998 |  25658049 | Charter         | Cable                 |            500.0 |          125.0 | fcc               | Cincinnati Bell | Fiber          | KY      | South    |                -5 |                    -4 |      500.0 |    125.0 | skwb8            |\n",
      "+------+-----------+-----------------+-----------------------+------------------+----------------+-------------------+-----------------+----------------+---------+----------+-------------------+-----------------------+------------+----------+------------------+\n",
      "| 1211 |   1000167 | Frontier        | Fiber                 |            400.0 |           20.0 | fcc               | Charter         | Cable          | CA      | West     |                -8 |                    -7 |      400.0 |     20.0 | skwb8            |\n",
      "+------+-----------+-----------------+-----------------------+------------------+----------------+-------------------+-----------------+----------------+---------+----------+-------------------+-----------------------+------------+----------+------------------+\n",
      "| 1441 |  25754801 | Frontier        | Fiber                 |             50.0 |            5.0 | fcc               | Comcast         | Cable          | WA      | West     |                -8 |                    -7 |       50.0 |      5.0 | skwb8            |\n",
      "+------+-----------+-----------------+-----------------------+------------------+----------------+-------------------+-----------------+----------------+---------+----------+-------------------+-----------------------+------------+----------+------------------+\n",
      "| 1885 |   1006204 | Verizon         | Fiber                 |           1200.0 |           35.0 | fcc               | Comcast         | Cable          | MD      | South    |                -5 |                    -4 |     1200.0 |     35.0 | skwb8            |\n",
      "+------+-----------+-----------------+-----------------------+------------------+----------------+-------------------+-----------------+----------------+---------+----------+-------------------+-----------------------+------------+----------+------------------+\n",
      "| 1887 |   1006726 | Verizon         | Fiber                 |           1000.0 |         1000.0 | fcc               | Frontier        | Fiber          | TX      | South    |                -6 |                    -5 |     1000.0 |   1000.0 | skwb8            |\n",
      "+------+-----------+-----------------+-----------------------+------------------+----------------+-------------------+-----------------+----------------+---------+----------+-------------------+-----------------------+------------+----------+------------------+\n"
     ]
    }
   ],
   "source": [
    "unit_map = pd.read_csv(\"../202109/unit_id_mapping.csv\")\n",
    "unit_profile = pd.read_csv(\"../unit_profile_files/unit-profile-sept2021.csv\")\n",
    "merged_df = get_missmatch_units(unit_map, unit_profile)\n",
    "print(merged_df.to_markdown(tablefmt=\"grid\", floatfmt=\"\"))"
   ]
  },
  {
   "cell_type": "code",
   "execution_count": 5,
   "metadata": {},
   "outputs": [
    {
     "name": "stdout",
     "output_type": "stream",
     "text": [
      "566338 ['05-on-regional-houston.samknows.comcast.net'\n",
      " 'sp1-vm-dallas-us.samknows.com']\n",
      "38658725 ['sp2-vm-chicago-us.samknows.com' '1-winterparkfl-on.centurylink.net'\n",
      " 'sp1-vm-chicago-us.samknows.com' 'samknows1.chi2.level3.net']\n",
      "39536053 ['sp1-vm-atlanta-us.samknows.com' '1-winterparkfl-on.centurylink.net'\n",
      " 'sp1-vm-miami-us.samknows.com' 'sp1-vm-dallas-us.samknows.com']\n",
      "24734545 ['sp1-vm-dallas-us.samknows.com' 't1.st.dfw10.tbone.rr.com'\n",
      " 'f1.st.dfw10.tbone.rr.com']\n",
      "24806665 ['t1.st.atl20.tbone.rr.com' 'sp1-vm-miami-us.samknows.com'\n",
      " 'fcc01spbgsc.spbg.sc.charter.com' 'f1.st.atl20.tbone.rr.com'\n",
      " 'samknows1.chi2.level3.net']\n",
      "25658049 ['t1.st.chi10.tbone.rr.com' 'sp2-vm-chicago-us.samknows.com'\n",
      " 'sp1-vm-chicago-us.samknows.com' 'f1.st.chi10.tbone.rr.com'\n",
      " 'sp1-vm-ashburn-us.samknows.com' 'sp1-vm-atlanta-us.samknows.com'\n",
      " 'samknows1.chi2.level3.net']\n",
      "1000167 ['samk01.plal.ca.frontiernet.net' 'sp1-vm-losangeles-us.samknows.com'\n",
      " 'samknows1.lax1.level3.net']\n",
      "25754801 ['samk01.plal.ca.frontiernet.net' 'sp1-vm-seattle-us.samknows.com'\n",
      " 'samknows1.sjo3.level3.net' 'samk01.chcg.il.frontiernet.net']\n",
      "1006204 ['sp2-vm-ashburn-us.samknows.com' 'restonfcc.west.verizon.net'\n",
      " 'sp1-vm-ashburn-us.samknows.com' 'samknows1.wdc12.level3.net']\n",
      "1006726 ['restonfcc.west.verizon.net' 'sp1-vm-dallas-us.samknows.com'\n",
      " 'samknows1.dal1.level3.net']\n"
     ]
    }
   ],
   "source": [
    "curr_udplatency = pd.read_csv(\"../202109/curr_udplatency.csv\")\n",
    "\n",
    "print(566338 , curr_udplatency[curr_udplatency[\"unit_id\"] == 566338].target.unique() )\n",
    "print(38658725 , curr_udplatency[curr_udplatency[\"unit_id\"] == 38658725].target.unique() )\n",
    "print(39536053 , curr_udplatency[curr_udplatency[\"unit_id\"] == 39536053].target.unique() )\n",
    "print(24734545 , curr_udplatency[curr_udplatency[\"unit_id\"] == 24734545].target.unique() )\n",
    "print(24806665 , curr_udplatency[curr_udplatency[\"unit_id\"] == 24806665].target.unique() )\n",
    "print(25658049 , curr_udplatency[curr_udplatency[\"unit_id\"] == 25658049].target.unique() )\n",
    "print(1000167 , curr_udplatency[curr_udplatency[\"unit_id\"] == 1000167].target.unique() )\n",
    "print(25754801 , curr_udplatency[curr_udplatency[\"unit_id\"] == 25754801].target.unique() )\n",
    "print(1006204 , curr_udplatency[curr_udplatency[\"unit_id\"] == 1006204].target.unique() )\n",
    "print(1006726 , curr_udplatency[curr_udplatency[\"unit_id\"] == 1006726].target.unique() )"
   ]
  },
  {
   "cell_type": "code",
   "execution_count": 14,
   "metadata": {},
   "outputs": [],
   "source": [
    "cincinnati_units_in_profile = unit_profile[unit_profile[\"profile_isp\"] == \"Cincinnati Bell\"].unit_id.tolist()\n",
    "cincinnati_units_in_mapped = unit_map[unit_map[\"operator_name\"] == \"Cincinnati Bell\"].unit_id.tolist()"
   ]
  },
  {
   "cell_type": "code",
   "execution_count": 15,
   "metadata": {},
   "outputs": [
    {
     "name": "stdout",
     "output_type": "stream",
     "text": [
      "320 345\n"
     ]
    }
   ],
   "source": [
    "print (len(cincinnati_units_in_profile), len(cincinnati_units_in_mapped))"
   ]
  },
  {
   "cell_type": "markdown",
   "metadata": {},
   "source": [
    "## Oct'21 "
   ]
  },
  {
   "cell_type": "code",
   "execution_count": 11,
   "metadata": {},
   "outputs": [
    {
     "name": "stdout",
     "output_type": "stream",
     "text": [
      "+------+-----------+-----------------+-----------------------+------------------+----------------+-------------------+-----------------+----------------+---------+----------+-------------------+-----------------------+------------+----------+------------------+\n",
      "|      |   unit_id | operator_name   | operator_technology   |   download_speed |   upload_speed | validation_type   | profile_isp     | profile_tech   | State   | Census   |   timezone_offset |   timezone_offset_dst |   Download |   Upload | Whitebox Model   |\n",
      "+======+===========+=================+=======================+==================+================+===================+=================+================+=========+==========+===================+=======================+============+==========+==================+\n",
      "|   51 |    566338 | Comcast         | Cable                 |            400.0 |           20.0 | fcc               | Charter         | Cable          | CA      | West     |                -6 |                    -5 |      400.0 |     20.0 | wdr3600          |\n",
      "+------+-----------+-----------------+-----------------------+------------------+----------------+-------------------+-----------------+----------------+---------+----------+-------------------+-----------------------+------------+----------+------------------+\n",
      "|  689 |  38658725 | CenturyLink     | Fiber                 |           1000.0 |           50.0 | fcc               | Mediacom        | Cable          | IL      | Midwest  |                -6 |                    -5 |     1000.0 |     50.0 | skwb8            |\n",
      "+------+-----------+-----------------+-----------------------+------------------+----------------+-------------------+-----------------+----------------+---------+----------+-------------------+-----------------------+------------+----------+------------------+\n",
      "|  896 |  24734545 | Charter         | Cable                 |           1000.0 |         1000.0 | fcc               | Frontier        | Fiber          | TX      | South    |                -6 |                    -5 |     1000.0 |   1000.0 | skwb8            |\n",
      "+------+-----------+-----------------+-----------------------+------------------+----------------+-------------------+-----------------+----------------+---------+----------+-------------------+-----------------------+------------+----------+------------------+\n",
      "|  898 |  24806665 | Charter         | Cable                 |            500.0 |          500.0 | fcc               | Frontier        | Fiber          | FL      | South    |                -5 |                    -4 |      500.0 |    500.0 | skwb8            |\n",
      "+------+-----------+-----------------+-----------------------+------------------+----------------+-------------------+-----------------+----------------+---------+----------+-------------------+-----------------------+------------+----------+------------------+\n",
      "|  909 |  25658049 | Charter         | Cable                 |            500.0 |          125.0 | fcc               | Cincinnati Bell | Fiber          | KY      | South    |                -5 |                    -4 |      500.0 |    125.0 | skwb8            |\n",
      "+------+-----------+-----------------+-----------------------+------------------+----------------+-------------------+-----------------+----------------+---------+----------+-------------------+-----------------------+------------+----------+------------------+\n",
      "| 1117 |   1000167 | Frontier        | Fiber                 |            400.0 |           20.0 | fcc               | Charter         | Cable          | CA      | West     |                -8 |                    -7 |      400.0 |     20.0 | skwb8            |\n",
      "+------+-----------+-----------------+-----------------------+------------------+----------------+-------------------+-----------------+----------------+---------+----------+-------------------+-----------------------+------------+----------+------------------+\n",
      "| 1345 |  25754801 | Frontier        | Fiber                 |             50.0 |            5.0 | fcc               | Comcast         | Cable          | WA      | West     |                -8 |                    -7 |       50.0 |      5.0 | skwb8            |\n",
      "+------+-----------+-----------------+-----------------------+------------------+----------------+-------------------+-----------------+----------------+---------+----------+-------------------+-----------------------+------------+----------+------------------+\n",
      "| 1777 |   1006204 | Verizon         | Fiber                 |           1200.0 |           35.0 | fcc               | Comcast         | Cable          | MD      | South    |                -5 |                    -4 |     1200.0 |     35.0 | skwb8            |\n",
      "+------+-----------+-----------------+-----------------------+------------------+----------------+-------------------+-----------------+----------------+---------+----------+-------------------+-----------------------+------------+----------+------------------+\n",
      "| 1779 |   1006726 | Verizon         | Fiber                 |           1000.0 |         1000.0 | fcc               | Frontier        | Fiber          | TX      | South    |                -6 |                    -5 |     1000.0 |   1000.0 | skwb8            |\n",
      "+------+-----------+-----------------+-----------------------+------------------+----------------+-------------------+-----------------+----------------+---------+----------+-------------------+-----------------------+------------+----------+------------------+\n",
      "| 1993 |  39536053 | CenturyLink     | Fiber                 |           1000.0 |         1000.0 | fcc               | AT&T            | Fiber          | NV      | West     |                -8 |                    -7 |     1000.0 |   1000.0 | skwb8            |\n",
      "+------+-----------+-----------------+-----------------------+------------------+----------------+-------------------+-----------------+----------------+---------+----------+-------------------+-----------------------+------------+----------+------------------+\n"
     ]
    }
   ],
   "source": [
    "unit_map = pd.read_csv(\"../202110/unit_id_mapping.csv\")\n",
    "unit_profile = pd.read_csv(\"../unit_profile_files/unit-profile-sept2021.csv\")\n",
    "merged_df = get_missmatch_units(unit_map, unit_profile)\n",
    "print(merged_df.to_markdown(tablefmt=\"grid\", floatfmt=\"\"))"
   ]
  },
  {
   "cell_type": "code",
   "execution_count": 12,
   "metadata": {},
   "outputs": [
    {
     "name": "stdout",
     "output_type": "stream",
     "text": [
      "566338 ['sp1-vm-dallas-us.samknows.com'\n",
      " '05-on-regional-houston.samknows.comcast.net' 'samknows1.chi2.level3.net'\n",
      " '17-on-regional-northnj.samknows.comcast.net']\n",
      "38658725 ['1-winterparkfl-on.centurylink.net' 'sp2-vm-chicago-us.samknows.com'\n",
      " 'sp1-vm-chicago-us.samknows.com']\n",
      "39536053 ['1-winterparkfl-on.centurylink.net' 'sp1-vm-atlanta-us.samknows.com']\n",
      "24734545 ['sp1-vm-dallas-us.samknows.com' 'f1.st.dfw10.tbone.rr.com'\n",
      " 't1.st.dfw10.tbone.rr.com']\n",
      "24806665 ['t1.st.atl20.tbone.rr.com' 'sp1-vm-miami-us.samknows.com']\n",
      "25658049 ['sp1-vm-chicago-us.samknows.com' 'f1.st.chi10.tbone.rr.com'\n",
      " 'sp1-vm-newyork-us.samknows.com' 'samknows1.chi2.level3.net'\n",
      " 't1.st.chi10.tbone.rr.com' 'sp2-vm-chicago-us.samknows.com'\n",
      " 'sp1-vm-atlanta-us.samknows.com' 'sp1-vm-ashburn-us.samknows.com']\n",
      "1000167 ['sp1-vm-losangeles-us.samknows.com' 'samk01.plal.ca.frontiernet.net'\n",
      " 'samknows1.lax1.level3.net']\n",
      "25754801 ['sp1-vm-seattle-us.samknows.com' 'samk01.plal.ca.frontiernet.net'\n",
      " 'samknows1.sjo1.level3.net' 'samk01.chcg.il.frontiernet.net']\n",
      "1006204 ['sp1-vm-ashburn-us.samknows.com' 'restonfcc.west.verizon.net'\n",
      " 'sp2-vm-ashburn-us.samknows.com' 'sp1-vm-newyork-us.samknows.com']\n",
      "1006726 ['samknows1.dal1.level3.net' 'restonfcc.west.verizon.net'\n",
      " 'samknows1.chi2.level3.net' 'sp1-vm-dallas-us.samknows.com']\n"
     ]
    }
   ],
   "source": [
    "curr_udplatency = pd.read_csv(\"../202110/curr_udplatency.csv\")\n",
    "\n",
    "print(566338 , curr_udplatency[curr_udplatency[\"unit_id\"] == 566338].target.unique() )\n",
    "print(38658725 , curr_udplatency[curr_udplatency[\"unit_id\"] == 38658725].target.unique() )\n",
    "print(39536053 , curr_udplatency[curr_udplatency[\"unit_id\"] == 39536053].target.unique() )\n",
    "print(24734545 , curr_udplatency[curr_udplatency[\"unit_id\"] == 24734545].target.unique() )\n",
    "print(24806665 , curr_udplatency[curr_udplatency[\"unit_id\"] == 24806665].target.unique() )\n",
    "print(25658049 , curr_udplatency[curr_udplatency[\"unit_id\"] == 25658049].target.unique() )\n",
    "print(1000167 , curr_udplatency[curr_udplatency[\"unit_id\"] == 1000167].target.unique() )\n",
    "print(25754801 , curr_udplatency[curr_udplatency[\"unit_id\"] == 25754801].target.unique() )\n",
    "print(1006204 , curr_udplatency[curr_udplatency[\"unit_id\"] == 1006204].target.unique() )\n",
    "print(1006726 , curr_udplatency[curr_udplatency[\"unit_id\"] == 1006726].target.unique() )"
   ]
  },
  {
   "cell_type": "code",
   "execution_count": null,
   "metadata": {},
   "outputs": [],
   "source": []
  },
  {
   "cell_type": "code",
   "execution_count": 143,
   "metadata": {},
   "outputs": [],
   "source": [
    "def localize_date(dtime, offset):\n",
    "    pst = pytz.timezone(\"UTC\")\n",
    "    if offset == -5:\n",
    "        pst = pytz.timezone(\"US/Eastern\")\n",
    "    elif offset == -6:\n",
    "        pst = pytz.timezone(\"US/Central\")\n",
    "    elif offset == -7:\n",
    "        pst = pytz.timezone(\"US/Mountain\")\n",
    "    elif offset == -8:\n",
    "        pst = pytz.timezone(\"US/Pacific\")\n",
    "    elif offset == -9:\n",
    "        pst = pytz.timezone(\"US/Alaska\")\n",
    "    elif offset == -10:\n",
    "        pst = pytz.timezone(\"US/Hawaii\")\n",
    "\n",
    "    dtObj = datetime.strptime(dtime, \"%Y-%m-%d %H:%M:%S\")\n",
    "    dtObj += timedelta(hours=int(offset))\n",
    "    dtcOffset = pst.localize(dtObj).dst()\n",
    "    dtObj += dtcOffset\n",
    "\n",
    "    return dtObj.strftime(\"%Y-%m-%d %H:%M:%S\"), pst.localize(datetime.strptime(dtime, \"%Y-%m-%d %H:%M:%S\")).strftime(\"%Y-%m-%d %H:%M:%S\")"
   ]
  },
  {
   "cell_type": "code",
   "execution_count": null,
   "metadata": {},
   "outputs": [],
   "source": [
    "def get_timezone(offset):\n",
    "    pst = pytz.timezone(\"UTC\")\n",
    "    if offset == -5:\n",
    "        pst = pytz.timezone(\"US/Eastern\")\n",
    "    elif offset == -6:\n",
    "        pst = pytz.timezone(\"US/Central\")\n",
    "    elif offset == -7:\n",
    "        pst = pytz.timezone(\"US/Mountain\")\n",
    "    elif offset == -8:\n",
    "        pst = pytz.timezone(\"US/Pacific\")\n",
    "    elif offset == -9:\n",
    "        pst = pytz.timezone(\"US/Alaska\")\n",
    "    elif offset == -10:\n",
    "        pst = pytz.timezone(\"US/Hawaii\")\n",
    "    return pst"
   ]
  },
  {
   "cell_type": "code",
   "execution_count": 206,
   "metadata": {},
   "outputs": [],
   "source": [
    "def is_dst(dt):\n",
    "    if dt.year < 2007:\n",
    "        raise ValueError()\n",
    "    dst_start = datetime(dt.year, 3, 8, 2, 0)\n",
    "    dst_start += timedelta(6 - dst_start.weekday())\n",
    "    dst_end = datetime(dt.year, 11, 1, 2, 0)\n",
    "    dst_end += timedelta(6 - dst_end.weekday())\n",
    "    return dst_start <= dt < dst_end\n",
    "\n",
    "\n",
    "def localize_date(dtime, offset, offset_dst):\n",
    "    # pst = pytz.timezone(\"UTC\")\n",
    "    # if offset == -5:\n",
    "    #     pst = pytz.timezone(\"US/Eastern\")\n",
    "    # elif offset == -6:\n",
    "    #     pst = pytz.timezone(\"US/Central\")\n",
    "    # elif offset == -7:\n",
    "    #     pst = pytz.timezone(\"US/Mountain\")\n",
    "    # elif offset == -8:\n",
    "    #     pst = pytz.timezone(\"US/Pacific\")\n",
    "    # elif offset == -9:\n",
    "    #     pst = pytz.timezone(\"US/Alaska\")\n",
    "    # elif offset == -10:\n",
    "    #     pst = pytz.timezone(\"US/Hawaii\")\n",
    "\n",
    "    dtObj = datetime.strptime(dtime, \"%Y-%m-%d %H:%M:%S\")\n",
    "    if is_dst(dtObj):\n",
    "        dtObj += timedelta(hours=int(offset_dst))\n",
    "    else:\n",
    "        dtObj += timedelta(hours=int(offset))\n",
    "    # dtObj += timedelta(hours=int(offset))\n",
    "    # dtcOffset = pst.localize(dtObj).dst()\n",
    "    # dtObj += dtcOffset\n",
    "\n",
    "    return dtObj.strftime(\"%Y-%m-%d %H:%M:%S\")"
   ]
  },
  {
   "cell_type": "code",
   "execution_count": 220,
   "metadata": {},
   "outputs": [
    {
     "name": "stdout",
     "output_type": "stream",
     "text": [
      "True\n",
      "2021-03-15 04:00:00\n"
     ]
    }
   ],
   "source": [
    "dtime = \"2021-03-15 10:00:00\"\n",
    "print(is_dst(datetime.strptime(dtime, \"%Y-%m-%d %H:%M:%S\")))\n",
    "print(localize_date(dtime, -7, -6))"
   ]
  },
  {
   "cell_type": "code",
   "execution_count": null,
   "metadata": {},
   "outputs": [
    {
     "name": "stdout",
     "output_type": "stream",
     "text": [
      "2021-03-14 11:00:06\n",
      "2021-03-14 10:00:06\n"
     ]
    },
    {
     "data": {
      "text/plain": [
       "('2021-03-14 04:00:06', '2021-03-14 11:00:06')"
      ]
     },
     "metadata": {},
     "output_type": "display_data"
    }
   ],
   "source": [
    "dtime = \"2021-03-14 00:00:06\"\n",
    "offset = -8\n",
    "curr_timezone = get_timezone(offset)\n",
    "print(curr_timezone.localize(datetime.strptime(dtime, \"%Y-%m-%d %H:%M:%S\")).strftime(\"%Y-%m-%d %H:%M:%S\"))\n",
    "print(datetime.strptime(dtime, \"%Y-%m-%d %H:%M:%S\").astimezone(curr_timezone).strftime(\"%Y-%m-%d %H:%M:%S\"))\n",
    "localize_date(dtime, offset)"
   ]
  },
  {
   "cell_type": "code",
   "execution_count": 190,
   "metadata": {},
   "outputs": [
    {
     "data": {
      "text/plain": [
       "datetime.timedelta(seconds=3600)"
      ]
     },
     "execution_count": 190,
     "metadata": {},
     "output_type": "execute_result"
    }
   ],
   "source": [
    "# pst = pytz.timezone(\"UTC\")\n",
    "pst = pytz.timezone(\"US/Pacific\")\n",
    "pst.localize(datetime(2017, 10, 1)).dst()"
   ]
  },
  {
   "cell_type": "code",
   "execution_count": 221,
   "metadata": {},
   "outputs": [],
   "source": [
    "cal_latency = pd.read_csv(\"../202109/validated_data/curr_udplatency.csv\")\n",
    "latency = pd.read_csv(\"../validated-data-sept2021/curr_udplatency.csv\")\n",
    "raw_latency = pd.read_csv(\"../202109/curr_udplatency.csv\")"
   ]
  },
  {
   "cell_type": "code",
   "execution_count": 222,
   "metadata": {},
   "outputs": [],
   "source": [
    "cal_latency = cal_latency[(cal_latency[\"validation_type\"] == \"fcc\") & (cal_latency[\"test_type\"] == \"off-net\") & ~(cal_latency[\"target\"].str.contains(\"level3\\.net\", na=False))]"
   ]
  },
  {
   "cell_type": "code",
   "execution_count": 223,
   "metadata": {},
   "outputs": [],
   "source": [
    "cal_latency = cal_latency.drop(columns=[\"operator_name\", \"operator_technology\", \"test_type\", \"download_speed\", \"upload_speed\", \"validation_type\"])\n",
    "latency = latency.drop(columns=[\"ddate\"])"
   ]
  },
  {
   "cell_type": "code",
   "execution_count": 224,
   "metadata": {},
   "outputs": [],
   "source": [
    "latency[\"date\"] = pd.to_datetime(latency[\"dtime\"], format=\"%Y-%m-%d %H:%M:%S\")\n",
    "cal_latency[\"date\"] = pd.to_datetime(cal_latency[\"dtime\"], format=\"%Y-%m-%d %H:%M:%S\")\n",
    "\n",
    "latency.sort_values(by='date', ascending=True, inplace=True)\n",
    "cal_latency.sort_values(by='date', ascending=True, inplace=True)"
   ]
  },
  {
   "cell_type": "code",
   "execution_count": 225,
   "metadata": {},
   "outputs": [],
   "source": [
    "mask = ( ('2021-09-01' <= cal_latency['date']) & (cal_latency['date'] <= '2021-09-24') ) | ( (cal_latency['date'] >= '2021-09-28') & (cal_latency['date'] <= '2021-10-05') )\n",
    "# latency = latency[latency[\"date\"] < '2021-10-01']\n",
    "cal_latency = cal_latency[mask]"
   ]
  },
  {
   "cell_type": "code",
   "execution_count": 226,
   "metadata": {},
   "outputs": [
    {
     "name": "stdout",
     "output_type": "stream",
     "text": [
      "(1981052, 10) (1974625, 10)\n"
     ]
    }
   ],
   "source": [
    "print(cal_latency.shape, latency.shape)"
   ]
  },
  {
   "cell_type": "code",
   "execution_count": 227,
   "metadata": {},
   "outputs": [
    {
     "name": "stdout",
     "output_type": "stream",
     "text": [
      "3449 3449\n",
      "set()\n",
      "set()\n"
     ]
    }
   ],
   "source": [
    "cal_unitids = cal_latency.unit_id.unique().tolist()\n",
    "unitids = latency.unit_id.unique().tolist()\n",
    "print(len(cal_unitids), len(unitids))\n",
    "print(set(cal_unitids) - set(unitids))\n",
    "print(set(unitids) - set(cal_unitids))"
   ]
  },
  {
   "cell_type": "code",
   "execution_count": 228,
   "metadata": {},
   "outputs": [
    {
     "data": {
      "text/html": [
       "<div>\n",
       "<style scoped>\n",
       "    .dataframe tbody tr th:only-of-type {\n",
       "        vertical-align: middle;\n",
       "    }\n",
       "\n",
       "    .dataframe tbody tr th {\n",
       "        vertical-align: top;\n",
       "    }\n",
       "\n",
       "    .dataframe thead th {\n",
       "        text-align: right;\n",
       "    }\n",
       "</style>\n",
       "<table border=\"1\" class=\"dataframe\">\n",
       "  <thead>\n",
       "    <tr style=\"text-align: right;\">\n",
       "      <th></th>\n",
       "      <th>unit_id</th>\n",
       "      <th>dtime</th>\n",
       "      <th>target</th>\n",
       "      <th>rtt_avg</th>\n",
       "      <th>rtt_min</th>\n",
       "      <th>rtt_max</th>\n",
       "      <th>rtt_std</th>\n",
       "      <th>successes</th>\n",
       "      <th>failures</th>\n",
       "      <th>date</th>\n",
       "    </tr>\n",
       "  </thead>\n",
       "  <tbody>\n",
       "    <tr>\n",
       "      <th>119231</th>\n",
       "      <td>940694</td>\n",
       "      <td>2021-09-01 00:00:03</td>\n",
       "      <td>sp1-vm-dallas-us.samknows.com</td>\n",
       "      <td>19388</td>\n",
       "      <td>16451</td>\n",
       "      <td>27844</td>\n",
       "      <td>1724</td>\n",
       "      <td>1784</td>\n",
       "      <td>0</td>\n",
       "      <td>2021-09-01 00:00:03</td>\n",
       "    </tr>\n",
       "    <tr>\n",
       "      <th>105918</th>\n",
       "      <td>24806773</td>\n",
       "      <td>2021-09-01 00:00:04</td>\n",
       "      <td>sp1-vm-dallas-us.samknows.com</td>\n",
       "      <td>3982</td>\n",
       "      <td>2427</td>\n",
       "      <td>6345</td>\n",
       "      <td>882</td>\n",
       "      <td>2355</td>\n",
       "      <td>0</td>\n",
       "      <td>2021-09-01 00:00:04</td>\n",
       "    </tr>\n",
       "    <tr>\n",
       "      <th>1155227</th>\n",
       "      <td>3893569</td>\n",
       "      <td>2021-09-01 00:00:05</td>\n",
       "      <td>sp1-vm-denver-us.samknows.com</td>\n",
       "      <td>22548</td>\n",
       "      <td>20946</td>\n",
       "      <td>24248</td>\n",
       "      <td>599</td>\n",
       "      <td>2255</td>\n",
       "      <td>0</td>\n",
       "      <td>2021-09-01 00:00:05</td>\n",
       "    </tr>\n",
       "    <tr>\n",
       "      <th>1029508</th>\n",
       "      <td>3894153</td>\n",
       "      <td>2021-09-01 00:00:05</td>\n",
       "      <td>sp1-vm-miami-us.samknows.com</td>\n",
       "      <td>11373</td>\n",
       "      <td>10140</td>\n",
       "      <td>13559</td>\n",
       "      <td>792</td>\n",
       "      <td>2229</td>\n",
       "      <td>2</td>\n",
       "      <td>2021-09-01 00:00:05</td>\n",
       "    </tr>\n",
       "    <tr>\n",
       "      <th>1620418</th>\n",
       "      <td>1006272</td>\n",
       "      <td>2021-09-01 00:00:06</td>\n",
       "      <td>sp1-vm-seattle-us.samknows.com</td>\n",
       "      <td>20594</td>\n",
       "      <td>19918</td>\n",
       "      <td>23056</td>\n",
       "      <td>443</td>\n",
       "      <td>2125</td>\n",
       "      <td>0</td>\n",
       "      <td>2021-09-01 00:00:06</td>\n",
       "    </tr>\n",
       "  </tbody>\n",
       "</table>\n",
       "</div>"
      ],
      "text/plain": [
       "          unit_id                dtime                          target  \\\n",
       "119231     940694  2021-09-01 00:00:03   sp1-vm-dallas-us.samknows.com   \n",
       "105918   24806773  2021-09-01 00:00:04   sp1-vm-dallas-us.samknows.com   \n",
       "1155227   3893569  2021-09-01 00:00:05   sp1-vm-denver-us.samknows.com   \n",
       "1029508   3894153  2021-09-01 00:00:05    sp1-vm-miami-us.samknows.com   \n",
       "1620418   1006272  2021-09-01 00:00:06  sp1-vm-seattle-us.samknows.com   \n",
       "\n",
       "         rtt_avg  rtt_min  rtt_max  rtt_std  successes  failures  \\\n",
       "119231     19388    16451    27844     1724       1784         0   \n",
       "105918      3982     2427     6345      882       2355         0   \n",
       "1155227    22548    20946    24248      599       2255         0   \n",
       "1029508    11373    10140    13559      792       2229         2   \n",
       "1620418    20594    19918    23056      443       2125         0   \n",
       "\n",
       "                       date  \n",
       "119231  2021-09-01 00:00:03  \n",
       "105918  2021-09-01 00:00:04  \n",
       "1155227 2021-09-01 00:00:05  \n",
       "1029508 2021-09-01 00:00:05  \n",
       "1620418 2021-09-01 00:00:06  "
      ]
     },
     "execution_count": 228,
     "metadata": {},
     "output_type": "execute_result"
    }
   ],
   "source": [
    "latency.head()"
   ]
  },
  {
   "cell_type": "code",
   "execution_count": 229,
   "metadata": {},
   "outputs": [
    {
     "data": {
      "text/html": [
       "<div>\n",
       "<style scoped>\n",
       "    .dataframe tbody tr th:only-of-type {\n",
       "        vertical-align: middle;\n",
       "    }\n",
       "\n",
       "    .dataframe tbody tr th {\n",
       "        vertical-align: top;\n",
       "    }\n",
       "\n",
       "    .dataframe thead th {\n",
       "        text-align: right;\n",
       "    }\n",
       "</style>\n",
       "<table border=\"1\" class=\"dataframe\">\n",
       "  <thead>\n",
       "    <tr style=\"text-align: right;\">\n",
       "      <th></th>\n",
       "      <th>unit_id</th>\n",
       "      <th>dtime</th>\n",
       "      <th>target</th>\n",
       "      <th>rtt_avg</th>\n",
       "      <th>rtt_min</th>\n",
       "      <th>rtt_max</th>\n",
       "      <th>rtt_std</th>\n",
       "      <th>successes</th>\n",
       "      <th>failures</th>\n",
       "      <th>date</th>\n",
       "    </tr>\n",
       "  </thead>\n",
       "  <tbody>\n",
       "    <tr>\n",
       "      <th>3083093</th>\n",
       "      <td>940694</td>\n",
       "      <td>2021-09-01 00:00:03</td>\n",
       "      <td>sp1-vm-dallas-us.samknows.com</td>\n",
       "      <td>19388</td>\n",
       "      <td>16451</td>\n",
       "      <td>27844</td>\n",
       "      <td>1724</td>\n",
       "      <td>1784</td>\n",
       "      <td>0</td>\n",
       "      <td>2021-09-01 00:00:03</td>\n",
       "    </tr>\n",
       "    <tr>\n",
       "      <th>3914438</th>\n",
       "      <td>24806773</td>\n",
       "      <td>2021-09-01 00:00:04</td>\n",
       "      <td>sp1-vm-dallas-us.samknows.com</td>\n",
       "      <td>3982</td>\n",
       "      <td>2427</td>\n",
       "      <td>6345</td>\n",
       "      <td>882</td>\n",
       "      <td>2355</td>\n",
       "      <td>0</td>\n",
       "      <td>2021-09-01 00:00:04</td>\n",
       "    </tr>\n",
       "    <tr>\n",
       "      <th>3646159</th>\n",
       "      <td>3894153</td>\n",
       "      <td>2021-09-01 00:00:05</td>\n",
       "      <td>sp1-vm-miami-us.samknows.com</td>\n",
       "      <td>11373</td>\n",
       "      <td>10140</td>\n",
       "      <td>13559</td>\n",
       "      <td>792</td>\n",
       "      <td>2229</td>\n",
       "      <td>2</td>\n",
       "      <td>2021-09-01 00:00:05</td>\n",
       "    </tr>\n",
       "    <tr>\n",
       "      <th>3639303</th>\n",
       "      <td>3893569</td>\n",
       "      <td>2021-09-01 00:00:05</td>\n",
       "      <td>sp1-vm-denver-us.samknows.com</td>\n",
       "      <td>22548</td>\n",
       "      <td>20946</td>\n",
       "      <td>24248</td>\n",
       "      <td>599</td>\n",
       "      <td>2255</td>\n",
       "      <td>0</td>\n",
       "      <td>2021-09-01 00:00:05</td>\n",
       "    </tr>\n",
       "    <tr>\n",
       "      <th>3391143</th>\n",
       "      <td>1006272</td>\n",
       "      <td>2021-09-01 00:00:06</td>\n",
       "      <td>sp1-vm-seattle-us.samknows.com</td>\n",
       "      <td>20594</td>\n",
       "      <td>19918</td>\n",
       "      <td>23056</td>\n",
       "      <td>443</td>\n",
       "      <td>2125</td>\n",
       "      <td>0</td>\n",
       "      <td>2021-09-01 00:00:06</td>\n",
       "    </tr>\n",
       "  </tbody>\n",
       "</table>\n",
       "</div>"
      ],
      "text/plain": [
       "          unit_id                dtime                          target  \\\n",
       "3083093    940694  2021-09-01 00:00:03   sp1-vm-dallas-us.samknows.com   \n",
       "3914438  24806773  2021-09-01 00:00:04   sp1-vm-dallas-us.samknows.com   \n",
       "3646159   3894153  2021-09-01 00:00:05    sp1-vm-miami-us.samknows.com   \n",
       "3639303   3893569  2021-09-01 00:00:05   sp1-vm-denver-us.samknows.com   \n",
       "3391143   1006272  2021-09-01 00:00:06  sp1-vm-seattle-us.samknows.com   \n",
       "\n",
       "         rtt_avg  rtt_min  rtt_max  rtt_std  successes  failures  \\\n",
       "3083093    19388    16451    27844     1724       1784         0   \n",
       "3914438     3982     2427     6345      882       2355         0   \n",
       "3646159    11373    10140    13559      792       2229         2   \n",
       "3639303    22548    20946    24248      599       2255         0   \n",
       "3391143    20594    19918    23056      443       2125         0   \n",
       "\n",
       "                       date  \n",
       "3083093 2021-09-01 00:00:03  \n",
       "3914438 2021-09-01 00:00:04  \n",
       "3646159 2021-09-01 00:00:05  \n",
       "3639303 2021-09-01 00:00:05  \n",
       "3391143 2021-09-01 00:00:06  "
      ]
     },
     "execution_count": 229,
     "metadata": {},
     "output_type": "execute_result"
    }
   ],
   "source": [
    "cal_latency.head()"
   ]
  },
  {
   "cell_type": "code",
   "execution_count": 230,
   "metadata": {},
   "outputs": [
    {
     "data": {
      "text/plain": [
       "(1974625, 11)"
      ]
     },
     "execution_count": 230,
     "metadata": {},
     "output_type": "execute_result"
    }
   ],
   "source": [
    "common = cal_latency.merge(latency.drop_duplicates(),indicator = True, how='left').loc[lambda x : x['_merge']=='both']\n",
    "common.shape"
   ]
  },
  {
   "cell_type": "code",
   "execution_count": 231,
   "metadata": {},
   "outputs": [
    {
     "data": {
      "text/plain": [
       "(6427, 11)"
      ]
     },
     "execution_count": 231,
     "metadata": {},
     "output_type": "execute_result"
    }
   ],
   "source": [
    "only_in_cal_latency = cal_latency.merge(latency.drop_duplicates(),indicator = True, how='left').loc[lambda x : x['_merge']!='both']\n",
    "only_in_cal_latency.shape"
   ]
  },
  {
   "cell_type": "code",
   "execution_count": 232,
   "metadata": {},
   "outputs": [
    {
     "data": {
      "text/plain": [
       "(0, 11)"
      ]
     },
     "execution_count": 232,
     "metadata": {},
     "output_type": "execute_result"
    }
   ],
   "source": [
    "only_in_fcc_latency = latency.merge(cal_latency.drop_duplicates(),indicator = True, how='left').loc[lambda x : x['_merge']!='both']\n",
    "only_in_fcc_latency.shape"
   ]
  },
  {
   "cell_type": "code",
   "execution_count": 233,
   "metadata": {},
   "outputs": [
    {
     "data": {
      "text/html": [
       "<div>\n",
       "<style scoped>\n",
       "    .dataframe tbody tr th:only-of-type {\n",
       "        vertical-align: middle;\n",
       "    }\n",
       "\n",
       "    .dataframe tbody tr th {\n",
       "        vertical-align: top;\n",
       "    }\n",
       "\n",
       "    .dataframe thead th {\n",
       "        text-align: right;\n",
       "    }\n",
       "</style>\n",
       "<table border=\"1\" class=\"dataframe\">\n",
       "  <thead>\n",
       "    <tr style=\"text-align: right;\">\n",
       "      <th></th>\n",
       "      <th>unit_id</th>\n",
       "      <th>dtime</th>\n",
       "      <th>target</th>\n",
       "      <th>rtt_avg</th>\n",
       "      <th>rtt_min</th>\n",
       "      <th>rtt_max</th>\n",
       "      <th>rtt_std</th>\n",
       "      <th>successes</th>\n",
       "      <th>failures</th>\n",
       "      <th>date</th>\n",
       "      <th>_merge</th>\n",
       "    </tr>\n",
       "  </thead>\n",
       "  <tbody>\n",
       "    <tr>\n",
       "      <th>46</th>\n",
       "      <td>55519265</td>\n",
       "      <td>2021-09-01 00:01:04</td>\n",
       "      <td>sp2-vm-ashburn-us.samknows.com</td>\n",
       "      <td>9530</td>\n",
       "      <td>7211</td>\n",
       "      <td>12270</td>\n",
       "      <td>1304</td>\n",
       "      <td>122</td>\n",
       "      <td>0</td>\n",
       "      <td>2021-09-01 00:01:04</td>\n",
       "      <td>left_only</td>\n",
       "    </tr>\n",
       "    <tr>\n",
       "      <th>88</th>\n",
       "      <td>38713353</td>\n",
       "      <td>2021-09-01 00:01:54</td>\n",
       "      <td>sp1-vm-sanjose-us.samknows.com</td>\n",
       "      <td>15498</td>\n",
       "      <td>10274</td>\n",
       "      <td>233593</td>\n",
       "      <td>12946</td>\n",
       "      <td>2189</td>\n",
       "      <td>2</td>\n",
       "      <td>2021-09-01 00:01:54</td>\n",
       "      <td>left_only</td>\n",
       "    </tr>\n",
       "    <tr>\n",
       "      <th>91</th>\n",
       "      <td>55518873</td>\n",
       "      <td>2021-09-01 00:01:55</td>\n",
       "      <td>sp2-vm-ashburn-us.samknows.com</td>\n",
       "      <td>13449</td>\n",
       "      <td>11356</td>\n",
       "      <td>20404</td>\n",
       "      <td>1212</td>\n",
       "      <td>2297</td>\n",
       "      <td>0</td>\n",
       "      <td>2021-09-01 00:01:55</td>\n",
       "      <td>left_only</td>\n",
       "    </tr>\n",
       "    <tr>\n",
       "      <th>246</th>\n",
       "      <td>661060</td>\n",
       "      <td>2021-09-01 00:05:30</td>\n",
       "      <td>sp1-vm-ashburn-us.samknows.com</td>\n",
       "      <td>8507</td>\n",
       "      <td>3394</td>\n",
       "      <td>13850</td>\n",
       "      <td>2843</td>\n",
       "      <td>2231</td>\n",
       "      <td>0</td>\n",
       "      <td>2021-09-01 00:05:30</td>\n",
       "      <td>left_only</td>\n",
       "    </tr>\n",
       "    <tr>\n",
       "      <th>509</th>\n",
       "      <td>55492141</td>\n",
       "      <td>2021-09-01 00:11:03</td>\n",
       "      <td>sp1-vm-newyork-us.samknows.com</td>\n",
       "      <td>12881</td>\n",
       "      <td>8344</td>\n",
       "      <td>19387</td>\n",
       "      <td>2881</td>\n",
       "      <td>2052</td>\n",
       "      <td>0</td>\n",
       "      <td>2021-09-01 00:11:03</td>\n",
       "      <td>left_only</td>\n",
       "    </tr>\n",
       "  </tbody>\n",
       "</table>\n",
       "</div>"
      ],
      "text/plain": [
       "      unit_id                dtime                          target  rtt_avg  \\\n",
       "46   55519265  2021-09-01 00:01:04  sp2-vm-ashburn-us.samknows.com     9530   \n",
       "88   38713353  2021-09-01 00:01:54  sp1-vm-sanjose-us.samknows.com    15498   \n",
       "91   55518873  2021-09-01 00:01:55  sp2-vm-ashburn-us.samknows.com    13449   \n",
       "246    661060  2021-09-01 00:05:30  sp1-vm-ashburn-us.samknows.com     8507   \n",
       "509  55492141  2021-09-01 00:11:03  sp1-vm-newyork-us.samknows.com    12881   \n",
       "\n",
       "     rtt_min  rtt_max  rtt_std  successes  failures                date  \\\n",
       "46      7211    12270     1304        122         0 2021-09-01 00:01:04   \n",
       "88     10274   233593    12946       2189         2 2021-09-01 00:01:54   \n",
       "91     11356    20404     1212       2297         0 2021-09-01 00:01:55   \n",
       "246     3394    13850     2843       2231         0 2021-09-01 00:05:30   \n",
       "509     8344    19387     2881       2052         0 2021-09-01 00:11:03   \n",
       "\n",
       "        _merge  \n",
       "46   left_only  \n",
       "88   left_only  \n",
       "91   left_only  \n",
       "246  left_only  \n",
       "509  left_only  "
      ]
     },
     "execution_count": 233,
     "metadata": {},
     "output_type": "execute_result"
    }
   ],
   "source": [
    "only_in_cal_latency.head()"
   ]
  },
  {
   "cell_type": "code",
   "execution_count": 245,
   "metadata": {},
   "outputs": [
    {
     "data": {
      "text/plain": [
       "105"
      ]
     },
     "execution_count": 245,
     "metadata": {},
     "output_type": "execute_result"
    }
   ],
   "source": [
    "ids = only_in_cal_latency.unit_id.unique().tolist()\n",
    "len(ids)"
   ]
  },
  {
   "cell_type": "code",
   "execution_count": 249,
   "metadata": {},
   "outputs": [],
   "source": [
    "only_in_cal_latency['date'] = only_in_cal_latency['date'].dt.date"
   ]
  },
  {
   "cell_type": "code",
   "execution_count": 252,
   "metadata": {},
   "outputs": [],
   "source": [
    "only_in_cal_latency.drop(columns=[\"dtime\", \"target\", \"rtt_avg\", \"rtt_min\", \"rtt_max\", \"rtt_std\", \"successes\", \"failures\", \"_merge\"], inplace=True)"
   ]
  },
  {
   "cell_type": "code",
   "execution_count": 255,
   "metadata": {},
   "outputs": [],
   "source": [
    "only_in_cal_latency.drop_duplicates(ignore_index=True, inplace=True)"
   ]
  },
  {
   "cell_type": "code",
   "execution_count": 262,
   "metadata": {},
   "outputs": [],
   "source": [
    "unit_date_included = pd.read_csv(\"../sql-cleanup-scripts-sept2021/unit_days_to_include.csv\")\n",
    "unit_date_included.rename(columns={\"ddate\": \"date\"}, inplace=True)"
   ]
  },
  {
   "cell_type": "code",
   "execution_count": 269,
   "metadata": {},
   "outputs": [
    {
     "name": "stdout",
     "output_type": "stream",
     "text": [
      "(398, 2)\n"
     ]
    }
   ],
   "source": [
    "print(only_in_cal_latency.shape)"
   ]
  },
  {
   "cell_type": "code",
   "execution_count": 265,
   "metadata": {},
   "outputs": [
    {
     "data": {
      "text/html": [
       "<div>\n",
       "<style scoped>\n",
       "    .dataframe tbody tr th:only-of-type {\n",
       "        vertical-align: middle;\n",
       "    }\n",
       "\n",
       "    .dataframe tbody tr th {\n",
       "        vertical-align: top;\n",
       "    }\n",
       "\n",
       "    .dataframe thead th {\n",
       "        text-align: right;\n",
       "    }\n",
       "</style>\n",
       "<table border=\"1\" class=\"dataframe\">\n",
       "  <thead>\n",
       "    <tr style=\"text-align: right;\">\n",
       "      <th></th>\n",
       "      <th>unit_id</th>\n",
       "      <th>date</th>\n",
       "      <th>_merge</th>\n",
       "    </tr>\n",
       "  </thead>\n",
       "  <tbody>\n",
       "  </tbody>\n",
       "</table>\n",
       "</div>"
      ],
      "text/plain": [
       "Empty DataFrame\n",
       "Columns: [unit_id, date, _merge]\n",
       "Index: []"
      ]
     },
     "execution_count": 265,
     "metadata": {},
     "output_type": "execute_result"
    }
   ],
   "source": [
    "only_in_cal_latency.merge(unit_date_included.drop_duplicates(),indicator = True, how='left').loc[lambda x : x['_merge']=='both']"
   ]
  },
  {
   "cell_type": "code",
   "execution_count": 267,
   "metadata": {},
   "outputs": [
    {
     "data": {
      "text/plain": [
       "(398, 3)"
      ]
     },
     "execution_count": 267,
     "metadata": {},
     "output_type": "execute_result"
    }
   ],
   "source": [
    "only_in_cal_latency.merge(unit_date_included.drop_duplicates(),indicator = True, how='left').loc[lambda x : x['_merge']=='left_only'].shape"
   ]
  },
  {
   "cell_type": "code",
   "execution_count": null,
   "metadata": {},
   "outputs": [],
   "source": []
  },
  {
   "cell_type": "code",
   "execution_count": 243,
   "metadata": {},
   "outputs": [
    {
     "data": {
      "text/html": [
       "<div>\n",
       "<style scoped>\n",
       "    .dataframe tbody tr th:only-of-type {\n",
       "        vertical-align: middle;\n",
       "    }\n",
       "\n",
       "    .dataframe tbody tr th {\n",
       "        vertical-align: top;\n",
       "    }\n",
       "\n",
       "    .dataframe thead th {\n",
       "        text-align: right;\n",
       "    }\n",
       "</style>\n",
       "<table border=\"1\" class=\"dataframe\">\n",
       "  <thead>\n",
       "    <tr style=\"text-align: right;\">\n",
       "      <th></th>\n",
       "      <th>unit_id</th>\n",
       "      <th>dtime</th>\n",
       "      <th>target</th>\n",
       "      <th>rtt_avg</th>\n",
       "      <th>rtt_min</th>\n",
       "      <th>rtt_max</th>\n",
       "      <th>rtt_std</th>\n",
       "      <th>successes</th>\n",
       "      <th>failures</th>\n",
       "      <th>date</th>\n",
       "      <th>_merge</th>\n",
       "    </tr>\n",
       "  </thead>\n",
       "  <tbody>\n",
       "    <tr>\n",
       "      <th>88</th>\n",
       "      <td>38713353</td>\n",
       "      <td>2021-09-01 00:01:54</td>\n",
       "      <td>sp1-vm-sanjose-us.samknows.com</td>\n",
       "      <td>15498</td>\n",
       "      <td>10274</td>\n",
       "      <td>233593</td>\n",
       "      <td>12946</td>\n",
       "      <td>2189</td>\n",
       "      <td>2</td>\n",
       "      <td>2021-09-01 00:01:54</td>\n",
       "      <td>left_only</td>\n",
       "    </tr>\n",
       "    <tr>\n",
       "      <th>2792</th>\n",
       "      <td>38713353</td>\n",
       "      <td>2021-09-01 01:01:54</td>\n",
       "      <td>sp1-vm-sanjose-us.samknows.com</td>\n",
       "      <td>14042</td>\n",
       "      <td>10235</td>\n",
       "      <td>26531</td>\n",
       "      <td>3206</td>\n",
       "      <td>1322</td>\n",
       "      <td>0</td>\n",
       "      <td>2021-09-01 01:01:54</td>\n",
       "      <td>left_only</td>\n",
       "    </tr>\n",
       "    <tr>\n",
       "      <th>5512</th>\n",
       "      <td>38713353</td>\n",
       "      <td>2021-09-01 02:01:55</td>\n",
       "      <td>sp1-vm-sanjose-us.samknows.com</td>\n",
       "      <td>14168</td>\n",
       "      <td>10309</td>\n",
       "      <td>28268</td>\n",
       "      <td>3269</td>\n",
       "      <td>2105</td>\n",
       "      <td>0</td>\n",
       "      <td>2021-09-01 02:01:55</td>\n",
       "      <td>left_only</td>\n",
       "    </tr>\n",
       "    <tr>\n",
       "      <th>8242</th>\n",
       "      <td>38713353</td>\n",
       "      <td>2021-09-01 03:01:53</td>\n",
       "      <td>sp1-vm-sanjose-us.samknows.com</td>\n",
       "      <td>14275</td>\n",
       "      <td>10302</td>\n",
       "      <td>33966</td>\n",
       "      <td>3285</td>\n",
       "      <td>2167</td>\n",
       "      <td>0</td>\n",
       "      <td>2021-09-01 03:01:53</td>\n",
       "      <td>left_only</td>\n",
       "    </tr>\n",
       "    <tr>\n",
       "      <th>10993</th>\n",
       "      <td>38713353</td>\n",
       "      <td>2021-09-01 04:01:54</td>\n",
       "      <td>sp1-vm-sanjose-us.samknows.com</td>\n",
       "      <td>14787</td>\n",
       "      <td>10319</td>\n",
       "      <td>182361</td>\n",
       "      <td>7350</td>\n",
       "      <td>2084</td>\n",
       "      <td>5</td>\n",
       "      <td>2021-09-01 04:01:54</td>\n",
       "      <td>left_only</td>\n",
       "    </tr>\n",
       "    <tr>\n",
       "      <th>...</th>\n",
       "      <td>...</td>\n",
       "      <td>...</td>\n",
       "      <td>...</td>\n",
       "      <td>...</td>\n",
       "      <td>...</td>\n",
       "      <td>...</td>\n",
       "      <td>...</td>\n",
       "      <td>...</td>\n",
       "      <td>...</td>\n",
       "      <td>...</td>\n",
       "      <td>...</td>\n",
       "    </tr>\n",
       "    <tr>\n",
       "      <th>370857</th>\n",
       "      <td>38713353</td>\n",
       "      <td>2021-09-06 18:00:20</td>\n",
       "      <td>sp2-vm-newyork-us.samknows.com</td>\n",
       "      <td>76986</td>\n",
       "      <td>72075</td>\n",
       "      <td>128016</td>\n",
       "      <td>5858</td>\n",
       "      <td>2136</td>\n",
       "      <td>12</td>\n",
       "      <td>2021-09-06 18:00:20</td>\n",
       "      <td>left_only</td>\n",
       "    </tr>\n",
       "    <tr>\n",
       "      <th>439341</th>\n",
       "      <td>38713353</td>\n",
       "      <td>2021-09-07 19:02:13</td>\n",
       "      <td>sp1-vm-seattle-us.samknows.com</td>\n",
       "      <td>29793</td>\n",
       "      <td>24842</td>\n",
       "      <td>60060</td>\n",
       "      <td>5020</td>\n",
       "      <td>2319</td>\n",
       "      <td>12</td>\n",
       "      <td>2021-09-07 19:02:13</td>\n",
       "      <td>left_only</td>\n",
       "    </tr>\n",
       "    <tr>\n",
       "      <th>442061</th>\n",
       "      <td>38713353</td>\n",
       "      <td>2021-09-07 20:02:13</td>\n",
       "      <td>sp1-vm-seattle-us.samknows.com</td>\n",
       "      <td>29664</td>\n",
       "      <td>24745</td>\n",
       "      <td>133557</td>\n",
       "      <td>7187</td>\n",
       "      <td>2090</td>\n",
       "      <td>19</td>\n",
       "      <td>2021-09-07 20:02:13</td>\n",
       "      <td>left_only</td>\n",
       "    </tr>\n",
       "    <tr>\n",
       "      <th>444977</th>\n",
       "      <td>38713353</td>\n",
       "      <td>2021-09-07 21:02:13</td>\n",
       "      <td>sp1-vm-seattle-us.samknows.com</td>\n",
       "      <td>32160</td>\n",
       "      <td>24701</td>\n",
       "      <td>270552</td>\n",
       "      <td>19745</td>\n",
       "      <td>2149</td>\n",
       "      <td>10</td>\n",
       "      <td>2021-09-07 21:02:13</td>\n",
       "      <td>left_only</td>\n",
       "    </tr>\n",
       "    <tr>\n",
       "      <th>450160</th>\n",
       "      <td>38713353</td>\n",
       "      <td>2021-09-07 23:02:12</td>\n",
       "      <td>sp1-vm-seattle-us.samknows.com</td>\n",
       "      <td>94369</td>\n",
       "      <td>24775</td>\n",
       "      <td>247189</td>\n",
       "      <td>70436</td>\n",
       "      <td>2302</td>\n",
       "      <td>20</td>\n",
       "      <td>2021-09-07 23:02:12</td>\n",
       "      <td>left_only</td>\n",
       "    </tr>\n",
       "  </tbody>\n",
       "</table>\n",
       "<p>67 rows × 11 columns</p>\n",
       "</div>"
      ],
      "text/plain": [
       "         unit_id                dtime                          target  \\\n",
       "88      38713353  2021-09-01 00:01:54  sp1-vm-sanjose-us.samknows.com   \n",
       "2792    38713353  2021-09-01 01:01:54  sp1-vm-sanjose-us.samknows.com   \n",
       "5512    38713353  2021-09-01 02:01:55  sp1-vm-sanjose-us.samknows.com   \n",
       "8242    38713353  2021-09-01 03:01:53  sp1-vm-sanjose-us.samknows.com   \n",
       "10993   38713353  2021-09-01 04:01:54  sp1-vm-sanjose-us.samknows.com   \n",
       "...          ...                  ...                             ...   \n",
       "370857  38713353  2021-09-06 18:00:20  sp2-vm-newyork-us.samknows.com   \n",
       "439341  38713353  2021-09-07 19:02:13  sp1-vm-seattle-us.samknows.com   \n",
       "442061  38713353  2021-09-07 20:02:13  sp1-vm-seattle-us.samknows.com   \n",
       "444977  38713353  2021-09-07 21:02:13  sp1-vm-seattle-us.samknows.com   \n",
       "450160  38713353  2021-09-07 23:02:12  sp1-vm-seattle-us.samknows.com   \n",
       "\n",
       "        rtt_avg  rtt_min  rtt_max  rtt_std  successes  failures  \\\n",
       "88        15498    10274   233593    12946       2189         2   \n",
       "2792      14042    10235    26531     3206       1322         0   \n",
       "5512      14168    10309    28268     3269       2105         0   \n",
       "8242      14275    10302    33966     3285       2167         0   \n",
       "10993     14787    10319   182361     7350       2084         5   \n",
       "...         ...      ...      ...      ...        ...       ...   \n",
       "370857    76986    72075   128016     5858       2136        12   \n",
       "439341    29793    24842    60060     5020       2319        12   \n",
       "442061    29664    24745   133557     7187       2090        19   \n",
       "444977    32160    24701   270552    19745       2149        10   \n",
       "450160    94369    24775   247189    70436       2302        20   \n",
       "\n",
       "                      date     _merge  \n",
       "88     2021-09-01 00:01:54  left_only  \n",
       "2792   2021-09-01 01:01:54  left_only  \n",
       "5512   2021-09-01 02:01:55  left_only  \n",
       "8242   2021-09-01 03:01:53  left_only  \n",
       "10993  2021-09-01 04:01:54  left_only  \n",
       "...                    ...        ...  \n",
       "370857 2021-09-06 18:00:20  left_only  \n",
       "439341 2021-09-07 19:02:13  left_only  \n",
       "442061 2021-09-07 20:02:13  left_only  \n",
       "444977 2021-09-07 21:02:13  left_only  \n",
       "450160 2021-09-07 23:02:12  left_only  \n",
       "\n",
       "[67 rows x 11 columns]"
      ]
     },
     "execution_count": 243,
     "metadata": {},
     "output_type": "execute_result"
    }
   ],
   "source": [
    "only_in_cal_latency[only_in_cal_latency[\"unit_id\"] == 38713353]"
   ]
  },
  {
   "cell_type": "code",
   "execution_count": 241,
   "metadata": {},
   "outputs": [
    {
     "data": {
      "text/html": [
       "<div>\n",
       "<style scoped>\n",
       "    .dataframe tbody tr th:only-of-type {\n",
       "        vertical-align: middle;\n",
       "    }\n",
       "\n",
       "    .dataframe tbody tr th {\n",
       "        vertical-align: top;\n",
       "    }\n",
       "\n",
       "    .dataframe thead th {\n",
       "        text-align: right;\n",
       "    }\n",
       "</style>\n",
       "<table border=\"1\" class=\"dataframe\">\n",
       "  <thead>\n",
       "    <tr style=\"text-align: right;\">\n",
       "      <th></th>\n",
       "      <th>unit_id</th>\n",
       "      <th>dtime</th>\n",
       "      <th>target</th>\n",
       "      <th>rtt_avg</th>\n",
       "      <th>rtt_min</th>\n",
       "      <th>rtt_max</th>\n",
       "      <th>rtt_std</th>\n",
       "      <th>successes</th>\n",
       "      <th>failures</th>\n",
       "      <th>date</th>\n",
       "    </tr>\n",
       "  </thead>\n",
       "  <tbody>\n",
       "    <tr>\n",
       "      <th>1570041</th>\n",
       "      <td>38713353</td>\n",
       "      <td>2021-09-08 00:02:12</td>\n",
       "      <td>sp1-vm-seattle-us.samknows.com</td>\n",
       "      <td>66528</td>\n",
       "      <td>24855</td>\n",
       "      <td>206116</td>\n",
       "      <td>51794</td>\n",
       "      <td>2065</td>\n",
       "      <td>13</td>\n",
       "      <td>2021-09-08 00:02:12</td>\n",
       "    </tr>\n",
       "    <tr>\n",
       "      <th>1570040</th>\n",
       "      <td>38713353</td>\n",
       "      <td>2021-09-08 01:02:13</td>\n",
       "      <td>sp1-vm-seattle-us.samknows.com</td>\n",
       "      <td>36982</td>\n",
       "      <td>24826</td>\n",
       "      <td>162838</td>\n",
       "      <td>22480</td>\n",
       "      <td>2242</td>\n",
       "      <td>11</td>\n",
       "      <td>2021-09-08 01:02:13</td>\n",
       "    </tr>\n",
       "    <tr>\n",
       "      <th>583944</th>\n",
       "      <td>38713353</td>\n",
       "      <td>2021-09-08 02:02:13</td>\n",
       "      <td>sp1-vm-seattle-us.samknows.com</td>\n",
       "      <td>28268</td>\n",
       "      <td>24642</td>\n",
       "      <td>39417</td>\n",
       "      <td>3026</td>\n",
       "      <td>2301</td>\n",
       "      <td>11</td>\n",
       "      <td>2021-09-08 02:02:13</td>\n",
       "    </tr>\n",
       "    <tr>\n",
       "      <th>583943</th>\n",
       "      <td>38713353</td>\n",
       "      <td>2021-09-08 03:02:13</td>\n",
       "      <td>sp1-vm-seattle-us.samknows.com</td>\n",
       "      <td>28692</td>\n",
       "      <td>24638</td>\n",
       "      <td>40489</td>\n",
       "      <td>3059</td>\n",
       "      <td>2344</td>\n",
       "      <td>12</td>\n",
       "      <td>2021-09-08 03:02:13</td>\n",
       "    </tr>\n",
       "    <tr>\n",
       "      <th>1570039</th>\n",
       "      <td>38713353</td>\n",
       "      <td>2021-09-08 04:02:13</td>\n",
       "      <td>sp1-vm-seattle-us.samknows.com</td>\n",
       "      <td>29215</td>\n",
       "      <td>24714</td>\n",
       "      <td>50191</td>\n",
       "      <td>3066</td>\n",
       "      <td>2289</td>\n",
       "      <td>23</td>\n",
       "      <td>2021-09-08 04:02:13</td>\n",
       "    </tr>\n",
       "    <tr>\n",
       "      <th>...</th>\n",
       "      <td>...</td>\n",
       "      <td>...</td>\n",
       "      <td>...</td>\n",
       "      <td>...</td>\n",
       "      <td>...</td>\n",
       "      <td>...</td>\n",
       "      <td>...</td>\n",
       "      <td>...</td>\n",
       "      <td>...</td>\n",
       "      <td>...</td>\n",
       "    </tr>\n",
       "    <tr>\n",
       "      <th>1539399</th>\n",
       "      <td>38713353</td>\n",
       "      <td>2021-09-30 14:44:18</td>\n",
       "      <td>sp1-vm-sanjose-us.samknows.com</td>\n",
       "      <td>11429</td>\n",
       "      <td>10171</td>\n",
       "      <td>19958</td>\n",
       "      <td>1607</td>\n",
       "      <td>2120</td>\n",
       "      <td>0</td>\n",
       "      <td>2021-09-30 14:44:18</td>\n",
       "    </tr>\n",
       "    <tr>\n",
       "      <th>1539356</th>\n",
       "      <td>38713353</td>\n",
       "      <td>2021-09-30 15:44:18</td>\n",
       "      <td>sp1-vm-sanjose-us.samknows.com</td>\n",
       "      <td>11466</td>\n",
       "      <td>10038</td>\n",
       "      <td>19984</td>\n",
       "      <td>1538</td>\n",
       "      <td>2277</td>\n",
       "      <td>0</td>\n",
       "      <td>2021-09-30 15:44:18</td>\n",
       "    </tr>\n",
       "    <tr>\n",
       "      <th>553289</th>\n",
       "      <td>38713353</td>\n",
       "      <td>2021-09-30 16:44:18</td>\n",
       "      <td>sp1-vm-sanjose-us.samknows.com</td>\n",
       "      <td>11499</td>\n",
       "      <td>10132</td>\n",
       "      <td>20291</td>\n",
       "      <td>1688</td>\n",
       "      <td>2227</td>\n",
       "      <td>0</td>\n",
       "      <td>2021-09-30 16:44:18</td>\n",
       "    </tr>\n",
       "    <tr>\n",
       "      <th>553295</th>\n",
       "      <td>38713353</td>\n",
       "      <td>2021-09-30 17:44:18</td>\n",
       "      <td>sp1-vm-sanjose-us.samknows.com</td>\n",
       "      <td>11430</td>\n",
       "      <td>10242</td>\n",
       "      <td>20227</td>\n",
       "      <td>1436</td>\n",
       "      <td>1997</td>\n",
       "      <td>0</td>\n",
       "      <td>2021-09-30 17:44:18</td>\n",
       "    </tr>\n",
       "    <tr>\n",
       "      <th>553253</th>\n",
       "      <td>38713353</td>\n",
       "      <td>2021-09-30 17:59:31</td>\n",
       "      <td>sp1-vm-sanjose-us.samknows.com</td>\n",
       "      <td>11462</td>\n",
       "      <td>10180</td>\n",
       "      <td>19774</td>\n",
       "      <td>1307</td>\n",
       "      <td>488</td>\n",
       "      <td>0</td>\n",
       "      <td>2021-09-30 17:59:31</td>\n",
       "    </tr>\n",
       "  </tbody>\n",
       "</table>\n",
       "<p>194 rows × 10 columns</p>\n",
       "</div>"
      ],
      "text/plain": [
       "          unit_id                dtime                          target  \\\n",
       "1570041  38713353  2021-09-08 00:02:12  sp1-vm-seattle-us.samknows.com   \n",
       "1570040  38713353  2021-09-08 01:02:13  sp1-vm-seattle-us.samknows.com   \n",
       "583944   38713353  2021-09-08 02:02:13  sp1-vm-seattle-us.samknows.com   \n",
       "583943   38713353  2021-09-08 03:02:13  sp1-vm-seattle-us.samknows.com   \n",
       "1570039  38713353  2021-09-08 04:02:13  sp1-vm-seattle-us.samknows.com   \n",
       "...           ...                  ...                             ...   \n",
       "1539399  38713353  2021-09-30 14:44:18  sp1-vm-sanjose-us.samknows.com   \n",
       "1539356  38713353  2021-09-30 15:44:18  sp1-vm-sanjose-us.samknows.com   \n",
       "553289   38713353  2021-09-30 16:44:18  sp1-vm-sanjose-us.samknows.com   \n",
       "553295   38713353  2021-09-30 17:44:18  sp1-vm-sanjose-us.samknows.com   \n",
       "553253   38713353  2021-09-30 17:59:31  sp1-vm-sanjose-us.samknows.com   \n",
       "\n",
       "         rtt_avg  rtt_min  rtt_max  rtt_std  successes  failures  \\\n",
       "1570041    66528    24855   206116    51794       2065        13   \n",
       "1570040    36982    24826   162838    22480       2242        11   \n",
       "583944     28268    24642    39417     3026       2301        11   \n",
       "583943     28692    24638    40489     3059       2344        12   \n",
       "1570039    29215    24714    50191     3066       2289        23   \n",
       "...          ...      ...      ...      ...        ...       ...   \n",
       "1539399    11429    10171    19958     1607       2120         0   \n",
       "1539356    11466    10038    19984     1538       2277         0   \n",
       "553289     11499    10132    20291     1688       2227         0   \n",
       "553295     11430    10242    20227     1436       1997         0   \n",
       "553253     11462    10180    19774     1307        488         0   \n",
       "\n",
       "                       date  \n",
       "1570041 2021-09-08 00:02:12  \n",
       "1570040 2021-09-08 01:02:13  \n",
       "583944  2021-09-08 02:02:13  \n",
       "583943  2021-09-08 03:02:13  \n",
       "1570039 2021-09-08 04:02:13  \n",
       "...                     ...  \n",
       "1539399 2021-09-30 14:44:18  \n",
       "1539356 2021-09-30 15:44:18  \n",
       "553289  2021-09-30 16:44:18  \n",
       "553295  2021-09-30 17:44:18  \n",
       "553253  2021-09-30 17:59:31  \n",
       "\n",
       "[194 rows x 10 columns]"
      ]
     },
     "execution_count": 241,
     "metadata": {},
     "output_type": "execute_result"
    }
   ],
   "source": [
    "latency[latency[\"unit_id\"] == 38713353]"
   ]
  },
  {
   "cell_type": "code",
   "execution_count": 242,
   "metadata": {},
   "outputs": [
    {
     "data": {
      "text/html": [
       "<div>\n",
       "<style scoped>\n",
       "    .dataframe tbody tr th:only-of-type {\n",
       "        vertical-align: middle;\n",
       "    }\n",
       "\n",
       "    .dataframe tbody tr th {\n",
       "        vertical-align: top;\n",
       "    }\n",
       "\n",
       "    .dataframe thead th {\n",
       "        text-align: right;\n",
       "    }\n",
       "</style>\n",
       "<table border=\"1\" class=\"dataframe\">\n",
       "  <thead>\n",
       "    <tr style=\"text-align: right;\">\n",
       "      <th></th>\n",
       "      <th>unit_id</th>\n",
       "      <th>dtime</th>\n",
       "      <th>target</th>\n",
       "      <th>rtt_avg</th>\n",
       "      <th>rtt_min</th>\n",
       "      <th>rtt_max</th>\n",
       "      <th>rtt_std</th>\n",
       "      <th>successes</th>\n",
       "      <th>failures</th>\n",
       "      <th>date</th>\n",
       "    </tr>\n",
       "  </thead>\n",
       "  <tbody>\n",
       "    <tr>\n",
       "      <th>4490486</th>\n",
       "      <td>38713353</td>\n",
       "      <td>2021-09-01 00:01:54</td>\n",
       "      <td>sp1-vm-sanjose-us.samknows.com</td>\n",
       "      <td>15498</td>\n",
       "      <td>10274</td>\n",
       "      <td>233593</td>\n",
       "      <td>12946</td>\n",
       "      <td>2189</td>\n",
       "      <td>2</td>\n",
       "      <td>2021-09-01 00:01:54</td>\n",
       "    </tr>\n",
       "    <tr>\n",
       "      <th>4490487</th>\n",
       "      <td>38713353</td>\n",
       "      <td>2021-09-01 01:01:54</td>\n",
       "      <td>sp1-vm-sanjose-us.samknows.com</td>\n",
       "      <td>14042</td>\n",
       "      <td>10235</td>\n",
       "      <td>26531</td>\n",
       "      <td>3206</td>\n",
       "      <td>1322</td>\n",
       "      <td>0</td>\n",
       "      <td>2021-09-01 01:01:54</td>\n",
       "    </tr>\n",
       "    <tr>\n",
       "      <th>4490488</th>\n",
       "      <td>38713353</td>\n",
       "      <td>2021-09-01 02:01:55</td>\n",
       "      <td>sp1-vm-sanjose-us.samknows.com</td>\n",
       "      <td>14168</td>\n",
       "      <td>10309</td>\n",
       "      <td>28268</td>\n",
       "      <td>3269</td>\n",
       "      <td>2105</td>\n",
       "      <td>0</td>\n",
       "      <td>2021-09-01 02:01:55</td>\n",
       "    </tr>\n",
       "    <tr>\n",
       "      <th>4490489</th>\n",
       "      <td>38713353</td>\n",
       "      <td>2021-09-01 03:01:53</td>\n",
       "      <td>sp1-vm-sanjose-us.samknows.com</td>\n",
       "      <td>14275</td>\n",
       "      <td>10302</td>\n",
       "      <td>33966</td>\n",
       "      <td>3285</td>\n",
       "      <td>2167</td>\n",
       "      <td>0</td>\n",
       "      <td>2021-09-01 03:01:53</td>\n",
       "    </tr>\n",
       "    <tr>\n",
       "      <th>4490490</th>\n",
       "      <td>38713353</td>\n",
       "      <td>2021-09-01 04:01:54</td>\n",
       "      <td>sp1-vm-sanjose-us.samknows.com</td>\n",
       "      <td>14787</td>\n",
       "      <td>10319</td>\n",
       "      <td>182361</td>\n",
       "      <td>7350</td>\n",
       "      <td>2084</td>\n",
       "      <td>5</td>\n",
       "      <td>2021-09-01 04:01:54</td>\n",
       "    </tr>\n",
       "    <tr>\n",
       "      <th>...</th>\n",
       "      <td>...</td>\n",
       "      <td>...</td>\n",
       "      <td>...</td>\n",
       "      <td>...</td>\n",
       "      <td>...</td>\n",
       "      <td>...</td>\n",
       "      <td>...</td>\n",
       "      <td>...</td>\n",
       "      <td>...</td>\n",
       "      <td>...</td>\n",
       "    </tr>\n",
       "    <tr>\n",
       "      <th>4490766</th>\n",
       "      <td>38713353</td>\n",
       "      <td>2021-09-30 14:44:18</td>\n",
       "      <td>sp1-vm-sanjose-us.samknows.com</td>\n",
       "      <td>11429</td>\n",
       "      <td>10171</td>\n",
       "      <td>19958</td>\n",
       "      <td>1607</td>\n",
       "      <td>2120</td>\n",
       "      <td>0</td>\n",
       "      <td>2021-09-30 14:44:18</td>\n",
       "    </tr>\n",
       "    <tr>\n",
       "      <th>4490767</th>\n",
       "      <td>38713353</td>\n",
       "      <td>2021-09-30 15:44:18</td>\n",
       "      <td>sp1-vm-sanjose-us.samknows.com</td>\n",
       "      <td>11466</td>\n",
       "      <td>10038</td>\n",
       "      <td>19984</td>\n",
       "      <td>1538</td>\n",
       "      <td>2277</td>\n",
       "      <td>0</td>\n",
       "      <td>2021-09-30 15:44:18</td>\n",
       "    </tr>\n",
       "    <tr>\n",
       "      <th>4490768</th>\n",
       "      <td>38713353</td>\n",
       "      <td>2021-09-30 16:44:18</td>\n",
       "      <td>sp1-vm-sanjose-us.samknows.com</td>\n",
       "      <td>11499</td>\n",
       "      <td>10132</td>\n",
       "      <td>20291</td>\n",
       "      <td>1688</td>\n",
       "      <td>2227</td>\n",
       "      <td>0</td>\n",
       "      <td>2021-09-30 16:44:18</td>\n",
       "    </tr>\n",
       "    <tr>\n",
       "      <th>10115773</th>\n",
       "      <td>38713353</td>\n",
       "      <td>2021-09-30 17:44:18</td>\n",
       "      <td>sp1-vm-sanjose-us.samknows.com</td>\n",
       "      <td>11430</td>\n",
       "      <td>10242</td>\n",
       "      <td>20227</td>\n",
       "      <td>1436</td>\n",
       "      <td>1997</td>\n",
       "      <td>0</td>\n",
       "      <td>2021-09-30 17:44:18</td>\n",
       "    </tr>\n",
       "    <tr>\n",
       "      <th>10115774</th>\n",
       "      <td>38713353</td>\n",
       "      <td>2021-09-30 17:59:31</td>\n",
       "      <td>sp1-vm-sanjose-us.samknows.com</td>\n",
       "      <td>11462</td>\n",
       "      <td>10180</td>\n",
       "      <td>19774</td>\n",
       "      <td>1307</td>\n",
       "      <td>488</td>\n",
       "      <td>0</td>\n",
       "      <td>2021-09-30 17:59:31</td>\n",
       "    </tr>\n",
       "  </tbody>\n",
       "</table>\n",
       "<p>261 rows × 10 columns</p>\n",
       "</div>"
      ],
      "text/plain": [
       "           unit_id                dtime                          target  \\\n",
       "4490486   38713353  2021-09-01 00:01:54  sp1-vm-sanjose-us.samknows.com   \n",
       "4490487   38713353  2021-09-01 01:01:54  sp1-vm-sanjose-us.samknows.com   \n",
       "4490488   38713353  2021-09-01 02:01:55  sp1-vm-sanjose-us.samknows.com   \n",
       "4490489   38713353  2021-09-01 03:01:53  sp1-vm-sanjose-us.samknows.com   \n",
       "4490490   38713353  2021-09-01 04:01:54  sp1-vm-sanjose-us.samknows.com   \n",
       "...            ...                  ...                             ...   \n",
       "4490766   38713353  2021-09-30 14:44:18  sp1-vm-sanjose-us.samknows.com   \n",
       "4490767   38713353  2021-09-30 15:44:18  sp1-vm-sanjose-us.samknows.com   \n",
       "4490768   38713353  2021-09-30 16:44:18  sp1-vm-sanjose-us.samknows.com   \n",
       "10115773  38713353  2021-09-30 17:44:18  sp1-vm-sanjose-us.samknows.com   \n",
       "10115774  38713353  2021-09-30 17:59:31  sp1-vm-sanjose-us.samknows.com   \n",
       "\n",
       "          rtt_avg  rtt_min  rtt_max  rtt_std  successes  failures  \\\n",
       "4490486     15498    10274   233593    12946       2189         2   \n",
       "4490487     14042    10235    26531     3206       1322         0   \n",
       "4490488     14168    10309    28268     3269       2105         0   \n",
       "4490489     14275    10302    33966     3285       2167         0   \n",
       "4490490     14787    10319   182361     7350       2084         5   \n",
       "...           ...      ...      ...      ...        ...       ...   \n",
       "4490766     11429    10171    19958     1607       2120         0   \n",
       "4490767     11466    10038    19984     1538       2277         0   \n",
       "4490768     11499    10132    20291     1688       2227         0   \n",
       "10115773    11430    10242    20227     1436       1997         0   \n",
       "10115774    11462    10180    19774     1307        488         0   \n",
       "\n",
       "                        date  \n",
       "4490486  2021-09-01 00:01:54  \n",
       "4490487  2021-09-01 01:01:54  \n",
       "4490488  2021-09-01 02:01:55  \n",
       "4490489  2021-09-01 03:01:53  \n",
       "4490490  2021-09-01 04:01:54  \n",
       "...                      ...  \n",
       "4490766  2021-09-30 14:44:18  \n",
       "4490767  2021-09-30 15:44:18  \n",
       "4490768  2021-09-30 16:44:18  \n",
       "10115773 2021-09-30 17:44:18  \n",
       "10115774 2021-09-30 17:59:31  \n",
       "\n",
       "[261 rows x 10 columns]"
      ]
     },
     "execution_count": 242,
     "metadata": {},
     "output_type": "execute_result"
    }
   ],
   "source": [
    "cal_latency[cal_latency[\"unit_id\"] == 38713353]"
   ]
  },
  {
   "cell_type": "code",
   "execution_count": 65,
   "metadata": {},
   "outputs": [
    {
     "data": {
      "text/html": [
       "<div>\n",
       "<style scoped>\n",
       "    .dataframe tbody tr th:only-of-type {\n",
       "        vertical-align: middle;\n",
       "    }\n",
       "\n",
       "    .dataframe tbody tr th {\n",
       "        vertical-align: top;\n",
       "    }\n",
       "\n",
       "    .dataframe thead th {\n",
       "        text-align: right;\n",
       "    }\n",
       "</style>\n",
       "<table border=\"1\" class=\"dataframe\">\n",
       "  <thead>\n",
       "    <tr style=\"text-align: right;\">\n",
       "      <th></th>\n",
       "      <th>unit_id</th>\n",
       "      <th>dtime</th>\n",
       "      <th>target</th>\n",
       "      <th>rtt_avg</th>\n",
       "      <th>rtt_min</th>\n",
       "      <th>rtt_max</th>\n",
       "      <th>rtt_std</th>\n",
       "      <th>successes</th>\n",
       "      <th>failures</th>\n",
       "      <th>date</th>\n",
       "    </tr>\n",
       "  </thead>\n",
       "  <tbody>\n",
       "  </tbody>\n",
       "</table>\n",
       "</div>"
      ],
      "text/plain": [
       "Empty DataFrame\n",
       "Columns: [unit_id, dtime, target, rtt_avg, rtt_min, rtt_max, rtt_std, successes, failures, date]\n",
       "Index: []"
      ]
     },
     "execution_count": 65,
     "metadata": {},
     "output_type": "execute_result"
    }
   ],
   "source": [
    "latency[(latency[\"unit_id\"] == 25619157) & (latency[\"dtime\"] == \"2021-09-01 00:00:50\")]"
   ]
  },
  {
   "cell_type": "code",
   "execution_count": 66,
   "metadata": {},
   "outputs": [
    {
     "data": {
      "text/html": [
       "<div>\n",
       "<style scoped>\n",
       "    .dataframe tbody tr th:only-of-type {\n",
       "        vertical-align: middle;\n",
       "    }\n",
       "\n",
       "    .dataframe tbody tr th {\n",
       "        vertical-align: top;\n",
       "    }\n",
       "\n",
       "    .dataframe thead th {\n",
       "        text-align: right;\n",
       "    }\n",
       "</style>\n",
       "<table border=\"1\" class=\"dataframe\">\n",
       "  <thead>\n",
       "    <tr style=\"text-align: right;\">\n",
       "      <th></th>\n",
       "      <th>unit_id</th>\n",
       "      <th>dtime</th>\n",
       "      <th>target</th>\n",
       "      <th>rtt_avg</th>\n",
       "      <th>rtt_min</th>\n",
       "      <th>rtt_max</th>\n",
       "      <th>rtt_std</th>\n",
       "      <th>successes</th>\n",
       "      <th>failures</th>\n",
       "      <th>date</th>\n",
       "    </tr>\n",
       "  </thead>\n",
       "  <tbody>\n",
       "    <tr>\n",
       "      <th>4029801</th>\n",
       "      <td>25314433</td>\n",
       "      <td>2021-09-30 23:59:53</td>\n",
       "      <td>sp1-vm-losangeles-us.samknows.com</td>\n",
       "      <td>13497</td>\n",
       "      <td>8534</td>\n",
       "      <td>26881</td>\n",
       "      <td>3494</td>\n",
       "      <td>2290</td>\n",
       "      <td>59</td>\n",
       "      <td>2021-09-30 23:59:53</td>\n",
       "    </tr>\n",
       "  </tbody>\n",
       "</table>\n",
       "</div>"
      ],
      "text/plain": [
       "          unit_id                dtime                             target  \\\n",
       "4029801  25314433  2021-09-30 23:59:53  sp1-vm-losangeles-us.samknows.com   \n",
       "\n",
       "         rtt_avg  rtt_min  rtt_max  rtt_std  successes  failures  \\\n",
       "4029801    13497     8534    26881     3494       2290        59   \n",
       "\n",
       "                       date  \n",
       "4029801 2021-09-30 23:59:53  "
      ]
     },
     "execution_count": 66,
     "metadata": {},
     "output_type": "execute_result"
    }
   ],
   "source": [
    "cal_latency[(cal_latency[\"unit_id\"] == 25619157) & (cal_latency[\"dtime\"] == \"2021-09-01 00:00:50\")]"
   ]
  },
  {
   "cell_type": "code",
   "execution_count": 184,
   "metadata": {},
   "outputs": [
    {
     "data": {
      "text/html": [
       "<div>\n",
       "<style scoped>\n",
       "    .dataframe tbody tr th:only-of-type {\n",
       "        vertical-align: middle;\n",
       "    }\n",
       "\n",
       "    .dataframe tbody tr th {\n",
       "        vertical-align: top;\n",
       "    }\n",
       "\n",
       "    .dataframe thead th {\n",
       "        text-align: right;\n",
       "    }\n",
       "</style>\n",
       "<table border=\"1\" class=\"dataframe\">\n",
       "  <thead>\n",
       "    <tr style=\"text-align: right;\">\n",
       "      <th></th>\n",
       "      <th>unit_id</th>\n",
       "      <th>dtime</th>\n",
       "      <th>target</th>\n",
       "      <th>rtt_avg</th>\n",
       "      <th>rtt_min</th>\n",
       "      <th>rtt_max</th>\n",
       "      <th>rtt_std</th>\n",
       "      <th>successes</th>\n",
       "      <th>failures</th>\n",
       "    </tr>\n",
       "  </thead>\n",
       "  <tbody>\n",
       "    <tr>\n",
       "      <th>2398201</th>\n",
       "      <td>1006272</td>\n",
       "      <td>2021-09-01 07:00:06</td>\n",
       "      <td>1-lasvegasnv-on.centurylink.net</td>\n",
       "      <td>43692</td>\n",
       "      <td>43160</td>\n",
       "      <td>44215</td>\n",
       "      <td>198</td>\n",
       "      <td>2125</td>\n",
       "      <td>0</td>\n",
       "    </tr>\n",
       "    <tr>\n",
       "      <th>2398202</th>\n",
       "      <td>1006272</td>\n",
       "      <td>2021-09-01 07:00:06</td>\n",
       "      <td>sp1-vm-seattle-us.samknows.com</td>\n",
       "      <td>20594</td>\n",
       "      <td>19918</td>\n",
       "      <td>23056</td>\n",
       "      <td>443</td>\n",
       "      <td>2125</td>\n",
       "      <td>0</td>\n",
       "    </tr>\n",
       "  </tbody>\n",
       "</table>\n",
       "</div>"
      ],
      "text/plain": [
       "         unit_id                dtime                           target  \\\n",
       "2398201  1006272  2021-09-01 07:00:06  1-lasvegasnv-on.centurylink.net   \n",
       "2398202  1006272  2021-09-01 07:00:06   sp1-vm-seattle-us.samknows.com   \n",
       "\n",
       "         rtt_avg  rtt_min  rtt_max  rtt_std  successes  failures  \n",
       "2398201    43692    43160    44215      198       2125         0  \n",
       "2398202    20594    19918    23056      443       2125         0  "
      ]
     },
     "execution_count": 184,
     "metadata": {},
     "output_type": "execute_result"
    }
   ],
   "source": [
    "raw_latency[(raw_latency[\"unit_id\"] == 25619157) & (raw_latency[\"dtime\"] == \"2021-09-01 07:00:06\")]"
   ]
  },
  {
   "cell_type": "code",
   "execution_count": null,
   "metadata": {},
   "outputs": [],
   "source": []
  },
  {
   "cell_type": "code",
   "execution_count": 63,
   "metadata": {},
   "outputs": [
    {
     "data": {
      "text/plain": [
       "['samk01.asbn.va.frontiernet.net',\n",
       " 'sp1-vm-ashburn-us.samknows.com',\n",
       " 'sp2-vm-ashburn-us.samknows.com',\n",
       " 'samknows1.chi2.level3.net']"
      ]
     },
     "execution_count": 63,
     "metadata": {},
     "output_type": "execute_result"
    }
   ],
   "source": [
    "raw_latency[raw_latency[\"unit_id\"] == 3894121].target.unique().tolist()"
   ]
  },
  {
   "cell_type": "code",
   "execution_count": null,
   "metadata": {},
   "outputs": [],
   "source": []
  },
  {
   "cell_type": "code",
   "execution_count": null,
   "metadata": {},
   "outputs": [],
   "source": []
  },
  {
   "cell_type": "code",
   "execution_count": null,
   "metadata": {},
   "outputs": [],
   "source": []
  },
  {
   "cell_type": "code",
   "execution_count": 12,
   "metadata": {},
   "outputs": [],
   "source": [
    "cal_latency['unit_time_comb'] = cal_latency['unit_id'].astype(str) + \" \" + cal_latency['dtime'] + \" \" + cal_latency['target']\n",
    "latency['unit_time_comb'] = latency['unit_id'].astype(str) + \" \" + latency['dtime'] + \" \" + latency['target']\n",
    "raw_latency['unit_time_comb'] = raw_latency['unit_id'].astype(str) + \" \" + raw_latency['dtime'] + \" \" + raw_latency['target']"
   ]
  },
  {
   "cell_type": "code",
   "execution_count": 13,
   "metadata": {},
   "outputs": [],
   "source": [
    "cal_units = cal_latency.unit_time_comb.unique().tolist()\n",
    "units = latency.unit_time_comb.unique().tolist()"
   ]
  },
  {
   "cell_type": "code",
   "execution_count": 12,
   "metadata": {},
   "outputs": [
    {
     "data": {
      "text/html": [
       "<div>\n",
       "<style scoped>\n",
       "    .dataframe tbody tr th:only-of-type {\n",
       "        vertical-align: middle;\n",
       "    }\n",
       "\n",
       "    .dataframe tbody tr th {\n",
       "        vertical-align: top;\n",
       "    }\n",
       "\n",
       "    .dataframe thead th {\n",
       "        text-align: right;\n",
       "    }\n",
       "</style>\n",
       "<table border=\"1\" class=\"dataframe\">\n",
       "  <thead>\n",
       "    <tr style=\"text-align: right;\">\n",
       "      <th></th>\n",
       "      <th>unit_id</th>\n",
       "      <th>dtime</th>\n",
       "      <th>target</th>\n",
       "      <th>rtt_avg</th>\n",
       "      <th>rtt_min</th>\n",
       "      <th>rtt_max</th>\n",
       "      <th>rtt_std</th>\n",
       "      <th>successes</th>\n",
       "      <th>failures</th>\n",
       "    </tr>\n",
       "  </thead>\n",
       "  <tbody>\n",
       "    <tr>\n",
       "      <th>2202632</th>\n",
       "      <td>422</td>\n",
       "      <td>2021-09-01 00:08:44</td>\n",
       "      <td>sp1-vm-seattle-us.samknows.com</td>\n",
       "      <td>9631</td>\n",
       "      <td>3604</td>\n",
       "      <td>18370</td>\n",
       "      <td>1875</td>\n",
       "      <td>2325</td>\n",
       "      <td>0</td>\n",
       "    </tr>\n",
       "    <tr>\n",
       "      <th>2202633</th>\n",
       "      <td>422</td>\n",
       "      <td>2021-09-01 01:08:42</td>\n",
       "      <td>sp1-vm-seattle-us.samknows.com</td>\n",
       "      <td>9771</td>\n",
       "      <td>4561</td>\n",
       "      <td>19656</td>\n",
       "      <td>2024</td>\n",
       "      <td>1859</td>\n",
       "      <td>0</td>\n",
       "    </tr>\n",
       "    <tr>\n",
       "      <th>2202634</th>\n",
       "      <td>422</td>\n",
       "      <td>2021-09-01 02:08:40</td>\n",
       "      <td>sp1-vm-seattle-us.samknows.com</td>\n",
       "      <td>9626</td>\n",
       "      <td>3706</td>\n",
       "      <td>18579</td>\n",
       "      <td>1725</td>\n",
       "      <td>2213</td>\n",
       "      <td>0</td>\n",
       "    </tr>\n",
       "    <tr>\n",
       "      <th>2202635</th>\n",
       "      <td>422</td>\n",
       "      <td>2021-09-01 03:08:38</td>\n",
       "      <td>sp1-vm-seattle-us.samknows.com</td>\n",
       "      <td>9731</td>\n",
       "      <td>4673</td>\n",
       "      <td>21733</td>\n",
       "      <td>1946</td>\n",
       "      <td>1995</td>\n",
       "      <td>0</td>\n",
       "    </tr>\n",
       "    <tr>\n",
       "      <th>2202636</th>\n",
       "      <td>422</td>\n",
       "      <td>2021-09-01 04:08:36</td>\n",
       "      <td>sp1-vm-seattle-us.samknows.com</td>\n",
       "      <td>10037</td>\n",
       "      <td>4962</td>\n",
       "      <td>21070</td>\n",
       "      <td>2180</td>\n",
       "      <td>2309</td>\n",
       "      <td>0</td>\n",
       "    </tr>\n",
       "  </tbody>\n",
       "</table>\n",
       "</div>"
      ],
      "text/plain": [
       "         unit_id                dtime                          target  \\\n",
       "2202632      422  2021-09-01 00:08:44  sp1-vm-seattle-us.samknows.com   \n",
       "2202633      422  2021-09-01 01:08:42  sp1-vm-seattle-us.samknows.com   \n",
       "2202634      422  2021-09-01 02:08:40  sp1-vm-seattle-us.samknows.com   \n",
       "2202635      422  2021-09-01 03:08:38  sp1-vm-seattle-us.samknows.com   \n",
       "2202636      422  2021-09-01 04:08:36  sp1-vm-seattle-us.samknows.com   \n",
       "\n",
       "         rtt_avg  rtt_min  rtt_max  rtt_std  successes  failures  \n",
       "2202632     9631     3604    18370     1875       2325         0  \n",
       "2202633     9771     4561    19656     2024       1859         0  \n",
       "2202634     9626     3706    18579     1725       2213         0  \n",
       "2202635     9731     4673    21733     1946       1995         0  \n",
       "2202636    10037     4962    21070     2180       2309         0  "
      ]
     },
     "execution_count": 12,
     "metadata": {},
     "output_type": "execute_result"
    }
   ],
   "source": [
    "cal_latency.head()"
   ]
  },
  {
   "cell_type": "code",
   "execution_count": 15,
   "metadata": {},
   "outputs": [
    {
     "name": "stdout",
     "output_type": "stream",
     "text": [
      "1974041 1968508\n",
      "(1980149, 16) (1974625, 11)\n"
     ]
    }
   ],
   "source": [
    "print(len(cal_units), len(units))\n",
    "print(cal_latency.shape, latency.shape)"
   ]
  },
  {
   "cell_type": "code",
   "execution_count": 34,
   "metadata": {},
   "outputs": [
    {
     "name": "stdout",
     "output_type": "stream",
     "text": [
      "6153 6117\n"
     ]
    }
   ],
   "source": [
    "print(2198024 - 2191871, 1974625 - 1968508)"
   ]
  },
  {
   "cell_type": "code",
   "execution_count": 55,
   "metadata": {},
   "outputs": [
    {
     "data": {
      "text/plain": [
       "1466885"
      ]
     },
     "execution_count": 55,
     "metadata": {},
     "output_type": "execute_result"
    }
   ],
   "source": [
    "diff = set(cal_units) - set(units)\n",
    "len(diff)"
   ]
  },
  {
   "cell_type": "code",
   "execution_count": 56,
   "metadata": {},
   "outputs": [
    {
     "data": {
      "text/plain": [
       "1466885"
      ]
     },
     "execution_count": 56,
     "metadata": {},
     "output_type": "execute_result"
    }
   ],
   "source": [
    "diff2 = set(units) - set(cal_units)\n",
    "len(diff)"
   ]
  },
  {
   "cell_type": "code",
   "execution_count": 57,
   "metadata": {},
   "outputs": [
    {
     "data": {
      "text/plain": [
       "['799468 2021-09-24 04:28:33 sp1-vm-denver-us.samknows.com',\n",
       " '27337 2021-09-22 14:09:23 sp2-vm-chicago-us.samknows.com',\n",
       " '54730345 2021-09-21 06:53:24 sp2-vm-chicago-us.samknows.com',\n",
       " '41088989 2021-09-07 09:55:33 samknows1.sjo3.level3.net',\n",
       " '37383701 2021-09-24 17:08:44 sp2-vm-chicago-us.samknows.com']"
      ]
     },
     "execution_count": 57,
     "metadata": {},
     "output_type": "execute_result"
    }
   ],
   "source": [
    "list(diff)[:5]"
   ]
  },
  {
   "cell_type": "code",
   "execution_count": 21,
   "metadata": {},
   "outputs": [
    {
     "data": {
      "text/html": [
       "<div>\n",
       "<style scoped>\n",
       "    .dataframe tbody tr th:only-of-type {\n",
       "        vertical-align: middle;\n",
       "    }\n",
       "\n",
       "    .dataframe tbody tr th {\n",
       "        vertical-align: top;\n",
       "    }\n",
       "\n",
       "    .dataframe thead th {\n",
       "        text-align: right;\n",
       "    }\n",
       "</style>\n",
       "<table border=\"1\" class=\"dataframe\">\n",
       "  <thead>\n",
       "    <tr style=\"text-align: right;\">\n",
       "      <th></th>\n",
       "      <th>unit_id</th>\n",
       "      <th>dtime</th>\n",
       "      <th>target</th>\n",
       "      <th>rtt_avg</th>\n",
       "      <th>rtt_min</th>\n",
       "      <th>rtt_max</th>\n",
       "      <th>rtt_std</th>\n",
       "      <th>successes</th>\n",
       "      <th>failures</th>\n",
       "      <th>operator_name</th>\n",
       "      <th>operator_technology</th>\n",
       "      <th>test_type</th>\n",
       "      <th>download_speed</th>\n",
       "      <th>upload_speed</th>\n",
       "      <th>validation_type</th>\n",
       "      <th>unit_time_comb</th>\n",
       "    </tr>\n",
       "  </thead>\n",
       "  <tbody>\n",
       "    <tr>\n",
       "      <th>1919690</th>\n",
       "      <td>422</td>\n",
       "      <td>2021-09-06 01:08:43</td>\n",
       "      <td>samknows1.sjo3.level3.net</td>\n",
       "      <td>26194</td>\n",
       "      <td>22933</td>\n",
       "      <td>34098</td>\n",
       "      <td>1473</td>\n",
       "      <td>1264</td>\n",
       "      <td>2</td>\n",
       "      <td>Comcast</td>\n",
       "      <td>Cable</td>\n",
       "      <td>off-net</td>\n",
       "      <td>100.0</td>\n",
       "      <td>5.0</td>\n",
       "      <td>fcc</td>\n",
       "      <td>422 2021-09-06 01:08:43</td>\n",
       "    </tr>\n",
       "    <tr>\n",
       "      <th>1919691</th>\n",
       "      <td>422</td>\n",
       "      <td>2021-09-06 02:08:41</td>\n",
       "      <td>samknows1.sjo3.level3.net</td>\n",
       "      <td>26462</td>\n",
       "      <td>22405</td>\n",
       "      <td>35143</td>\n",
       "      <td>1558</td>\n",
       "      <td>2055</td>\n",
       "      <td>7</td>\n",
       "      <td>Comcast</td>\n",
       "      <td>Cable</td>\n",
       "      <td>off-net</td>\n",
       "      <td>100.0</td>\n",
       "      <td>5.0</td>\n",
       "      <td>fcc</td>\n",
       "      <td>422 2021-09-06 02:08:41</td>\n",
       "    </tr>\n",
       "    <tr>\n",
       "      <th>1919692</th>\n",
       "      <td>422</td>\n",
       "      <td>2021-09-06 03:08:40</td>\n",
       "      <td>samknows1.sjo3.level3.net</td>\n",
       "      <td>26601</td>\n",
       "      <td>20719</td>\n",
       "      <td>37129</td>\n",
       "      <td>1874</td>\n",
       "      <td>2224</td>\n",
       "      <td>5</td>\n",
       "      <td>Comcast</td>\n",
       "      <td>Cable</td>\n",
       "      <td>off-net</td>\n",
       "      <td>100.0</td>\n",
       "      <td>5.0</td>\n",
       "      <td>fcc</td>\n",
       "      <td>422 2021-09-06 03:08:40</td>\n",
       "    </tr>\n",
       "    <tr>\n",
       "      <th>1919693</th>\n",
       "      <td>422</td>\n",
       "      <td>2021-09-06 04:08:38</td>\n",
       "      <td>samknows1.sjo3.level3.net</td>\n",
       "      <td>26557</td>\n",
       "      <td>21550</td>\n",
       "      <td>36322</td>\n",
       "      <td>1739</td>\n",
       "      <td>2130</td>\n",
       "      <td>0</td>\n",
       "      <td>Comcast</td>\n",
       "      <td>Cable</td>\n",
       "      <td>off-net</td>\n",
       "      <td>100.0</td>\n",
       "      <td>5.0</td>\n",
       "      <td>fcc</td>\n",
       "      <td>422 2021-09-06 04:08:38</td>\n",
       "    </tr>\n",
       "    <tr>\n",
       "      <th>1919694</th>\n",
       "      <td>422</td>\n",
       "      <td>2021-09-06 05:08:37</td>\n",
       "      <td>samknows1.sjo3.level3.net</td>\n",
       "      <td>26526</td>\n",
       "      <td>22530</td>\n",
       "      <td>35826</td>\n",
       "      <td>1915</td>\n",
       "      <td>1621</td>\n",
       "      <td>0</td>\n",
       "      <td>Comcast</td>\n",
       "      <td>Cable</td>\n",
       "      <td>off-net</td>\n",
       "      <td>100.0</td>\n",
       "      <td>5.0</td>\n",
       "      <td>fcc</td>\n",
       "      <td>422 2021-09-06 05:08:37</td>\n",
       "    </tr>\n",
       "  </tbody>\n",
       "</table>\n",
       "</div>"
      ],
      "text/plain": [
       "         unit_id                dtime                     target  rtt_avg  \\\n",
       "1919690      422  2021-09-06 01:08:43  samknows1.sjo3.level3.net    26194   \n",
       "1919691      422  2021-09-06 02:08:41  samknows1.sjo3.level3.net    26462   \n",
       "1919692      422  2021-09-06 03:08:40  samknows1.sjo3.level3.net    26601   \n",
       "1919693      422  2021-09-06 04:08:38  samknows1.sjo3.level3.net    26557   \n",
       "1919694      422  2021-09-06 05:08:37  samknows1.sjo3.level3.net    26526   \n",
       "\n",
       "         rtt_min  rtt_max  rtt_std  successes  failures operator_name  \\\n",
       "1919690    22933    34098     1473       1264         2       Comcast   \n",
       "1919691    22405    35143     1558       2055         7       Comcast   \n",
       "1919692    20719    37129     1874       2224         5       Comcast   \n",
       "1919693    21550    36322     1739       2130         0       Comcast   \n",
       "1919694    22530    35826     1915       1621         0       Comcast   \n",
       "\n",
       "        operator_technology test_type  download_speed  upload_speed  \\\n",
       "1919690               Cable   off-net           100.0           5.0   \n",
       "1919691               Cable   off-net           100.0           5.0   \n",
       "1919692               Cable   off-net           100.0           5.0   \n",
       "1919693               Cable   off-net           100.0           5.0   \n",
       "1919694               Cable   off-net           100.0           5.0   \n",
       "\n",
       "        validation_type           unit_time_comb  \n",
       "1919690             fcc  422 2021-09-06 01:08:43  \n",
       "1919691             fcc  422 2021-09-06 02:08:41  \n",
       "1919692             fcc  422 2021-09-06 03:08:40  \n",
       "1919693             fcc  422 2021-09-06 04:08:38  \n",
       "1919694             fcc  422 2021-09-06 05:08:37  "
      ]
     },
     "execution_count": 21,
     "metadata": {},
     "output_type": "execute_result"
    }
   ],
   "source": [
    "cal_latency.head()"
   ]
  },
  {
   "cell_type": "code",
   "execution_count": 67,
   "metadata": {},
   "outputs": [
    {
     "data": {
      "text/plain": [
       "(1980149, 16)"
      ]
     },
     "execution_count": 67,
     "metadata": {},
     "output_type": "execute_result"
    }
   ],
   "source": [
    "cal_latency[~cal_latency[\"target\"].str.contains(\"level3\\.net\", na=False)].shape"
   ]
  },
  {
   "cell_type": "code",
   "execution_count": 66,
   "metadata": {},
   "outputs": [
    {
     "data": {
      "text/plain": [
       "6125"
      ]
     },
     "execution_count": 66,
     "metadata": {},
     "output_type": "execute_result"
    }
   ],
   "source": [
    "224000 - 217875"
   ]
  },
  {
   "cell_type": "code",
   "execution_count": null,
   "metadata": {},
   "outputs": [],
   "source": []
  }
 ],
 "metadata": {
  "kernelspec": {
   "display_name": "env",
   "language": "python",
   "name": "python3"
  },
  "language_info": {
   "codemirror_mode": {
    "name": "ipython",
    "version": 3
   },
   "file_extension": ".py",
   "mimetype": "text/x-python",
   "name": "python",
   "nbconvert_exporter": "python",
   "pygments_lexer": "ipython3",
   "version": "3.9.6"
  },
  "orig_nbformat": 4
 },
 "nbformat": 4,
 "nbformat_minor": 2
}
