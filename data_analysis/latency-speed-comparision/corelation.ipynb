{
 "cells": [
  {
   "cell_type": "code",
   "execution_count": 27,
   "metadata": {},
   "outputs": [],
   "source": [
    "import pandas as pd\n",
    "import numpy as np\n",
    "import seaborn as sns\n",
    "import matplotlib.pyplot as plt\n",
    "import matplotlib.dates as dates\n",
    "from matplotlib import cm\n",
    "from mpl_toolkits.mplot3d import Axes3D\n",
    "import json\n",
    "import io"
   ]
  },
  {
   "cell_type": "code",
   "execution_count": 35,
   "metadata": {},
   "outputs": [],
   "source": [
    "def get_corelation_coef(data, name):\n",
    "\n",
    "    pearson = data[['Average speed (Mbps)', 'Average latency (ms)']].corr().unstack()['Average speed (Mbps)']['Average latency (ms)']\n",
    "\n",
    "    spearman = data[['Average speed (Mbps)', 'Average latency (ms)']].corr(method='spearman').unstack()['Average speed (Mbps)']['Average latency (ms)']\n",
    "\n",
    "    kendall = data[['Average speed (Mbps)', 'Average latency (ms)']].corr(method='kendall').unstack()['Average speed (Mbps)']['Average latency (ms)']\n",
    "\n",
    "    return [name, round(pearson, 3) , round(spearman, 3), round(kendall, 3)]\n",
    "    \n",
    "    # df = pd.Series([pearson, spearman, kendall], index=['Pearson coefficient', 'Spearman coefficient', 'Kendall coefficient'])\n",
    "    # df = pd.DataFrame({'Pearson coefficient': [pearson], 'Spearman coefficient': [spearman], 'Kendall coefficient': [kendall]})\n",
    "\n",
    "    # print(df.to_markdown(tablefmt=\"grid\", floatfmt=\".4f\", index=False))"
   ]
  },
  {
   "cell_type": "code",
   "execution_count": 42,
   "metadata": {},
   "outputs": [],
   "source": [
    "results_coef = []"
   ]
  },
  {
   "cell_type": "markdown",
   "metadata": {},
   "source": [
    "## Idle latency and download speed"
   ]
  },
  {
   "cell_type": "code",
   "execution_count": 43,
   "metadata": {},
   "outputs": [],
   "source": [
    "latency = pd.read_csv(\"data_rtt_max_week/Average of Idle latency.csv\")\n",
    "speed = pd.read_csv(\"data_rtt_max_week/Average download speed.csv\")\n",
    "merge_df = pd.merge(speed, latency, how=\"left\", on=\"dtime per week\")\n",
    "merge_df['dtime per week'] = pd.to_datetime(merge_df['dtime per week'], format='%Y-%m-%d')\n",
    "\n",
    "results_coef.append(get_corelation_coef(merge_df, \"download speed vs Idle Latency\"))"
   ]
  },
  {
   "cell_type": "markdown",
   "metadata": {},
   "source": [
    "## Downstream LUL and  download speed"
   ]
  },
  {
   "cell_type": "code",
   "execution_count": 44,
   "metadata": {},
   "outputs": [],
   "source": [
    "latency = pd.read_csv(\"data_rtt_max_week/Average of downstream LUL.csv\")\n",
    "speed = pd.read_csv(\"data_rtt_max_week/Average download speed.csv\")\n",
    "merge_df = pd.merge(speed, latency, how=\"left\", on=\"dtime per week\")\n",
    "merge_df['dtime per week'] = pd.to_datetime(merge_df['dtime per week'], format='%Y-%m-%d')\n",
    "\n",
    "results_coef.append(get_corelation_coef(merge_df, \"download speed vs downstream LUL\"))"
   ]
  },
  {
   "cell_type": "markdown",
   "metadata": {},
   "source": [
    "## Upstream LUL and upload speed"
   ]
  },
  {
   "cell_type": "code",
   "execution_count": 45,
   "metadata": {},
   "outputs": [],
   "source": [
    "latency = pd.read_csv(\"data_rtt_max_week/Average of Upstream LUL.csv\")\n",
    "speed = pd.read_csv(\"data_rtt_max_week/Average upload speed.csv\")\n",
    "merge_df = pd.merge(speed, latency, how=\"left\", on=\"dtime per week\")\n",
    "merge_df['Average latency (ms)'] = merge_df['Average latency (ms)'].str.replace(\",\",\"\").astype(float)\n",
    "merge_df['dtime per week'] = pd.to_datetime(merge_df['dtime per week'], format='%Y-%m-%d')\n",
    "\n",
    "results_coef.append(get_corelation_coef(merge_df, \"upload speed vs Upstream LUL\"))"
   ]
  },
  {
   "cell_type": "code",
   "execution_count": 46,
   "metadata": {},
   "outputs": [
    {
     "name": "stdout",
     "output_type": "stream",
     "text": [
      "+----------------------------------+-----------------------+------------------------+-----------------------+\n",
      "|                                  |   Pearson coefficient |   Spearman coefficient |   Kendall coefficient |\n",
      "+==================================+=======================+========================+=======================+\n",
      "| download speed vs Idle Latency   |               -0.7310 |                -0.6010 |               -0.4330 |\n",
      "+----------------------------------+-----------------------+------------------------+-----------------------+\n",
      "| download speed vs downstream LUL |               -0.9300 |                -0.8950 |               -0.7320 |\n",
      "+----------------------------------+-----------------------+------------------------+-----------------------+\n",
      "| upload speed vs Upstream LUL     |               -0.6590 |                -0.9830 |               -0.9210 |\n",
      "+----------------------------------+-----------------------+------------------------+-----------------------+\n"
     ]
    }
   ],
   "source": [
    "df = pd.DataFrame(results_coef, columns=['', 'Pearson coefficient', 'Spearman coefficient', 'Kendall coefficient'])\n",
    "\n",
    "print(df.to_markdown(tablefmt=\"grid\", floatfmt=\".3f\", index=False))"
   ]
  },
  {
   "cell_type": "code",
   "execution_count": null,
   "metadata": {},
   "outputs": [],
   "source": []
  },
  {
   "cell_type": "markdown",
   "metadata": {},
   "source": [
    "## Steps to Migrate to CS cloud\n",
    "\n",
    "- Create new VMs with ssh-keys configured and public IPs address \n",
    "- open a request to open kibana port and IP to public and elasticsearch port public on CU VPN\n",
    "- Setup the cluster by installing elasticsearch and kibana \n",
    "- migrate the data from CUmulus cluster to CS cloud cluster. \n",
    "- migrate the kibana dashboards from CUmulus cluster to CS cloud cluster. \n",
    "\n",
    "\n",
    "Estimate timeline to complete migration - end of March. "
   ]
  },
  {
   "cell_type": "markdown",
   "metadata": {},
   "source": []
  }
 ],
 "metadata": {
  "kernelspec": {
   "display_name": "env",
   "language": "python",
   "name": "python3"
  },
  "language_info": {
   "codemirror_mode": {
    "name": "ipython",
    "version": 3
   },
   "file_extension": ".py",
   "mimetype": "text/x-python",
   "name": "python",
   "nbconvert_exporter": "python",
   "pygments_lexer": "ipython3",
   "version": "3.9.6"
  }
 },
 "nbformat": 4,
 "nbformat_minor": 2
}
